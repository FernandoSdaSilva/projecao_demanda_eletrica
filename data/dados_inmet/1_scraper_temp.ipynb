{
 "cells": [
  {
   "cell_type": "markdown",
   "metadata": {},
   "source": [
    "https://portal.inmet.gov.br/dadoshistoricos"
   ]
  },
  {
   "cell_type": "code",
   "execution_count": 1,
   "metadata": {},
   "outputs": [],
   "source": [
    "import requests\n",
    "from io import BytesIO\n",
    "import pandas as pd\n",
    "from zipfile import ZipFile\n",
    "import re\n",
    "\n",
    "import warnings\n",
    "warnings.filterwarnings('ignore')"
   ]
  },
  {
   "cell_type": "code",
   "execution_count": 3,
   "metadata": {},
   "outputs": [],
   "source": [
    "# EXEMPLO DE UM ANO, para arquivos de Porto Alegre\n",
    "\n",
    "path = 'https://portal.inmet.gov.br/uploads/dadoshistoricos/2022.zip'\n",
    "r = requests.get(path, verify = False)\n",
    "files = ZipFile(BytesIO(r.content))\n",
    "pattern = re.compile(\"Porto Alegre\", flags = re.IGNORECASE)\n",
    "arquivo = []\n",
    "for file in files.namelist():\n",
    "    if re.search(pattern, str(file)):\n",
    "        arquivo.append(file)\n",
    "temp_poa = pd.read_csv(files.open(arquivo[0]), encoding=\"latin1\", sep = \";\", skiprows=8)\n",
    "\n",
    "temp_poa = pd.read_csv(files.open(arquivo[0]), encoding=\"latin1\", sep = \";\", nrows=7, header = None)\n",
    "temp_poa"
   ]
  },
  {
   "cell_type": "code",
   "execution_count": 2,
   "metadata": {},
   "outputs": [
    {
     "name": "stdout",
     "output_type": "stream",
     "text": [
      "2000\n",
      "2001\n",
      "2002\n",
      "2003\n",
      "2004\n",
      "2005\n",
      "2006\n",
      "2007\n",
      "2008\n",
      "2009\n",
      "2010\n",
      "2011\n",
      "2012\n",
      "2013\n",
      "2014\n",
      "2015\n",
      "2016\n",
      "2017\n",
      "2018\n",
      "2019\n",
      "2020\n",
      "2021\n"
     ]
    }
   ],
   "source": [
    "# 2000 - 2021 TODOS ESTADOS\n",
    "df = pd.DataFrame()\n",
    "for ano in range(2000, 2022):\n",
    "    print(ano)\n",
    "    path = f'https://portal.inmet.gov.br/uploads/dadoshistoricos/{ano}.zip'\n",
    "    r = requests.get(path, verify = False)\n",
    "    files = ZipFile(BytesIO(r.content))\n",
    "    arquivos = []\n",
    "    for file in files.namelist():\n",
    "        if file[-4:].lower() == \".csv\":\n",
    "            arquivos.append(file)\n",
    "        else:\n",
    "            continue\n",
    "    df01 = pd.DataFrame()\n",
    "    for arquivo in arquivos:\n",
    "        #print(arquivo)\n",
    "        info = pd.read_csv(files.open(arquivo), sep = \";\", encoding = \"latin-1\", nrows=7, header = None)\n",
    "        estacao = info.iloc[2, 1]\n",
    "        estado = info.iloc[1, 1]\n",
    "        df02 = pd.read_csv(files.open(arquivo),  sep = \";\", encoding = \"latin-1\", skiprows = 8)\n",
    "        df02[\"ESTACAO\"] = estacao\n",
    "        df02[\"UF\"] = estado\n",
    "        df01 = pd.concat([df01, df02])\n",
    "    df = pd.concat([df, df01])"
   ]
  },
  {
   "cell_type": "code",
   "execution_count": 3,
   "metadata": {},
   "outputs": [],
   "source": [
    "# 2022\n",
    "path = f'https://portal.inmet.gov.br/uploads/dadoshistoricos/2022.zip'\n",
    "r = requests.get(path, verify = False)\n",
    "files = ZipFile(BytesIO(r.content))\n",
    "arquivos = []\n",
    "for file in files.namelist():\n",
    "    if file[-4:].lower() == \".csv\":\n",
    "        arquivos.append(file)\n",
    "    else:\n",
    "        continue   \n",
    "df_2022 = pd.DataFrame()\n",
    "for arquivo in arquivos:\n",
    "    info = pd.read_csv(files.open(arquivo), sep = \";\", encoding = \"latin-1\", nrows=7, header = None)\n",
    "    estacao = info.iloc[2, 1]\n",
    "    estado = info.iloc[1, 1]\n",
    "    df02 = pd.read_csv(files.open(arquivo),  sep = \";\", encoding = \"latin-1\", skiprows = 8)\n",
    "    df02[\"ESTACAO\"] = estacao\n",
    "    df02[\"UF\"] = estado\n",
    "    df_2022 = pd.concat([df_2022, df02])"
   ]
  },
  {
   "cell_type": "code",
   "execution_count": 4,
   "metadata": {},
   "outputs": [],
   "source": [
    "df_final = pd.concat([df, df_2022])"
   ]
  },
  {
   "cell_type": "code",
   "execution_count": 6,
   "metadata": {},
   "outputs": [
    {
     "data": {
      "text/plain": [
       "array(['DF', 'BA', 'AM', 'RJ', 'RS', 'GO', 'MS', 'SP', 'MT', 'MG', 'AL',\n",
       "       'CE', 'MA', 'PE', 'PI', 'RN', 'SE', 'PA', 'PR', 'SC', 'PB', 'TO',\n",
       "       'ES', 'RO', 'AC', 'AP', 'RR'], dtype=object)"
      ]
     },
     "execution_count": 6,
     "metadata": {},
     "output_type": "execute_result"
    }
   ],
   "source": [
    "df_final.UF.unique()"
   ]
  },
  {
   "cell_type": "code",
   "execution_count": 8,
   "metadata": {},
   "outputs": [],
   "source": [
    "df_final.to_csv(\"temp_01012000_30062022.csv\")"
   ]
  }
 ],
 "metadata": {
  "interpreter": {
   "hash": "a077222d77dfe082b8f1dd562ad70e458ac2ab76993a0b248ab0476e32e9e8dd"
  },
  "kernelspec": {
   "display_name": "Python 3.8.8 ('base')",
   "language": "python",
   "name": "python3"
  },
  "language_info": {
   "codemirror_mode": {
    "name": "ipython",
    "version": 3
   },
   "file_extension": ".py",
   "mimetype": "text/x-python",
   "name": "python",
   "nbconvert_exporter": "python",
   "pygments_lexer": "ipython3",
   "version": "3.8.8"
  },
  "orig_nbformat": 4
 },
 "nbformat": 4,
 "nbformat_minor": 2
}
