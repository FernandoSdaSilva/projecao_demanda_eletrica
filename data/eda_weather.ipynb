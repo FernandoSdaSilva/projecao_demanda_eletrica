{
 "cells": [
  {
   "cell_type": "code",
   "execution_count": 1,
   "metadata": {},
   "outputs": [],
   "source": [
    "import pandas as pd\n",
    "import os\n",
    "os.getcwd()\n",
    "import numpy as np"
   ]
  },
  {
   "cell_type": "code",
   "execution_count": 2,
   "metadata": {},
   "outputs": [],
   "source": [
    "import matplotlib.pyplot as plt\n",
    "from matplotlib import rcParams\n",
    "import seaborn as sns\n",
    "import warnings\n",
    "warnings.filterwarnings('ignore') # remove warnings\n",
    "plt.style.use('fivethirtyeight')\n",
    "rcParams['figure.figsize'] = 15, 5"
   ]
  },
  {
   "cell_type": "code",
   "execution_count": 3,
   "metadata": {},
   "outputs": [
    {
     "name": "stdout",
     "output_type": "stream",
     "text": [
      "<class 'pandas.core.frame.DataFrame'>\n",
      "RangeIndex: 11245944 entries, 0 to 11245943\n",
      "Data columns (total 10 columns):\n",
      " #   Column                                           Dtype         \n",
      "---  ------                                           -----         \n",
      " 0   PRECIPITAÇÃO_TOTAL_HORÁRIO                       float64       \n",
      " 1   PRESSAO_ATMOSFERICA_AO_NIVEL_DA_ESTACAO_HORARIA  float64       \n",
      " 2   RADIACAO_GLOBAL                                  float64       \n",
      " 3   TEMPERATURA_DO_AR__BULBO_SECO_HORARIA            float64       \n",
      " 4   TEMPERATURA_DO_PONTO_DE_ORVALHO                  float64       \n",
      " 5   UMIDADE_RELATIVA_DO_AR_HORARIA                   float64       \n",
      " 6   VENTO_VELOCIDADE_HORARIA                         float64       \n",
      " 7   ESTACAO                                          object        \n",
      " 8   UF                                               object        \n",
      " 9   DATA_HORA                                        datetime64[ns]\n",
      "dtypes: datetime64[ns](1), float64(7), object(2)\n",
      "memory usage: 858.0+ MB\n"
     ]
    }
   ],
   "source": [
    "path = \"temp_sul_01012000_30062022.csv\"\n",
    "df = pd.read_csv(path, parse_dates=[\"DATA_HORA\"], \n",
    "                 usecols=[\"UF\", \"ESTACAO\", \"DATA_HORA\", \"PRECIPITAÇÃO_TOTAL_HORÁRIO\", \"PRESSAO_ATMOSFERICA_AO_NIVEL_DA_ESTACAO_HORARIA\", \"RADIACAO_GLOBAL\", \n",
    "                          \"TEMPERATURA_DO_AR__BULBO_SECO_HORARIA\", \"TEMPERATURA_DO_PONTO_DE_ORVALHO\", \"UMIDADE_RELATIVA_DO_AR_HORARIA\",\n",
    "                          \"VENTO_VELOCIDADE_HORARIA\"])\n",
    "df.info()"
   ]
  },
  {
   "cell_type": "code",
   "execution_count": 4,
   "metadata": {},
   "outputs": [
    {
     "data": {
      "text/html": [
       "<div>\n",
       "<style scoped>\n",
       "    .dataframe tbody tr th:only-of-type {\n",
       "        vertical-align: middle;\n",
       "    }\n",
       "\n",
       "    .dataframe tbody tr th {\n",
       "        vertical-align: top;\n",
       "    }\n",
       "\n",
       "    .dataframe thead th {\n",
       "        text-align: right;\n",
       "    }\n",
       "</style>\n",
       "<table border=\"1\" class=\"dataframe\">\n",
       "  <thead>\n",
       "    <tr style=\"text-align: right;\">\n",
       "      <th></th>\n",
       "      <th>PRECIPITAÇÃO_TOTAL_HORÁRIO</th>\n",
       "      <th>PRESSAO_ATMOSFERICA_AO_NIVEL_DA_ESTACAO_HORARIA</th>\n",
       "      <th>RADIACAO_GLOBAL</th>\n",
       "      <th>TEMPERATURA_DO_AR__BULBO_SECO_HORARIA</th>\n",
       "      <th>TEMPERATURA_DO_PONTO_DE_ORVALHO</th>\n",
       "      <th>UMIDADE_RELATIVA_DO_AR_HORARIA</th>\n",
       "      <th>VENTO_VELOCIDADE_HORARIA</th>\n",
       "    </tr>\n",
       "  </thead>\n",
       "  <tbody>\n",
       "    <tr>\n",
       "      <th>count</th>\n",
       "      <td>1.066470e+07</td>\n",
       "      <td>1.076107e+07</td>\n",
       "      <td>8.789044e+06</td>\n",
       "      <td>1.076693e+07</td>\n",
       "      <td>1.065388e+07</td>\n",
       "      <td>1.065054e+07</td>\n",
       "      <td>1.066098e+07</td>\n",
       "    </tr>\n",
       "    <tr>\n",
       "      <th>mean</th>\n",
       "      <td>-7.185842e+02</td>\n",
       "      <td>4.010270e+02</td>\n",
       "      <td>-3.966173e+03</td>\n",
       "      <td>-4.997081e+02</td>\n",
       "      <td>-6.127890e+02</td>\n",
       "      <td>-5.611531e+02</td>\n",
       "      <td>-6.405715e+02</td>\n",
       "    </tr>\n",
       "    <tr>\n",
       "      <th>std</th>\n",
       "      <td>2.582736e+03</td>\n",
       "      <td>2.412457e+03</td>\n",
       "      <td>5.667371e+03</td>\n",
       "      <td>2.219534e+03</td>\n",
       "      <td>2.425853e+03</td>\n",
       "      <td>2.453970e+03</td>\n",
       "      <td>2.453193e+03</td>\n",
       "    </tr>\n",
       "    <tr>\n",
       "      <th>min</th>\n",
       "      <td>-9.999000e+03</td>\n",
       "      <td>-9.999000e+03</td>\n",
       "      <td>-9.999000e+03</td>\n",
       "      <td>-9.999000e+03</td>\n",
       "      <td>-9.999000e+03</td>\n",
       "      <td>-9.999000e+03</td>\n",
       "      <td>-9.999000e+03</td>\n",
       "    </tr>\n",
       "    <tr>\n",
       "      <th>25%</th>\n",
       "      <td>0.000000e+00</td>\n",
       "      <td>9.208000e+02</td>\n",
       "      <td>-9.999000e+03</td>\n",
       "      <td>1.420000e+01</td>\n",
       "      <td>1.020000e+01</td>\n",
       "      <td>6.100000e+01</td>\n",
       "      <td>6.000000e-01</td>\n",
       "    </tr>\n",
       "    <tr>\n",
       "      <th>50%</th>\n",
       "      <td>0.000000e+00</td>\n",
       "      <td>9.600000e+02</td>\n",
       "      <td>7.900000e+00</td>\n",
       "      <td>1.860000e+01</td>\n",
       "      <td>1.430000e+01</td>\n",
       "      <td>7.900000e+01</td>\n",
       "      <td>2.000000e+00</td>\n",
       "    </tr>\n",
       "    <tr>\n",
       "      <th>75%</th>\n",
       "      <td>0.000000e+00</td>\n",
       "      <td>1.001700e+03</td>\n",
       "      <td>1.108000e+03</td>\n",
       "      <td>2.260000e+01</td>\n",
       "      <td>1.770000e+01</td>\n",
       "      <td>9.100000e+01</td>\n",
       "      <td>3.500000e+00</td>\n",
       "    </tr>\n",
       "    <tr>\n",
       "      <th>max</th>\n",
       "      <td>9.440000e+01</td>\n",
       "      <td>1.049900e+03</td>\n",
       "      <td>8.259100e+03</td>\n",
       "      <td>4.440000e+01</td>\n",
       "      <td>4.350000e+01</td>\n",
       "      <td>1.000000e+02</td>\n",
       "      <td>4.340000e+01</td>\n",
       "    </tr>\n",
       "  </tbody>\n",
       "</table>\n",
       "</div>"
      ],
      "text/plain": [
       "       PRECIPITAÇÃO_TOTAL_HORÁRIO  \\\n",
       "count                1.066470e+07   \n",
       "mean                -7.185842e+02   \n",
       "std                  2.582736e+03   \n",
       "min                 -9.999000e+03   \n",
       "25%                  0.000000e+00   \n",
       "50%                  0.000000e+00   \n",
       "75%                  0.000000e+00   \n",
       "max                  9.440000e+01   \n",
       "\n",
       "       PRESSAO_ATMOSFERICA_AO_NIVEL_DA_ESTACAO_HORARIA  RADIACAO_GLOBAL  \\\n",
       "count                                     1.076107e+07     8.789044e+06   \n",
       "mean                                      4.010270e+02    -3.966173e+03   \n",
       "std                                       2.412457e+03     5.667371e+03   \n",
       "min                                      -9.999000e+03    -9.999000e+03   \n",
       "25%                                       9.208000e+02    -9.999000e+03   \n",
       "50%                                       9.600000e+02     7.900000e+00   \n",
       "75%                                       1.001700e+03     1.108000e+03   \n",
       "max                                       1.049900e+03     8.259100e+03   \n",
       "\n",
       "       TEMPERATURA_DO_AR__BULBO_SECO_HORARIA  TEMPERATURA_DO_PONTO_DE_ORVALHO  \\\n",
       "count                           1.076693e+07                     1.065388e+07   \n",
       "mean                           -4.997081e+02                    -6.127890e+02   \n",
       "std                             2.219534e+03                     2.425853e+03   \n",
       "min                            -9.999000e+03                    -9.999000e+03   \n",
       "25%                             1.420000e+01                     1.020000e+01   \n",
       "50%                             1.860000e+01                     1.430000e+01   \n",
       "75%                             2.260000e+01                     1.770000e+01   \n",
       "max                             4.440000e+01                     4.350000e+01   \n",
       "\n",
       "       UMIDADE_RELATIVA_DO_AR_HORARIA  VENTO_VELOCIDADE_HORARIA  \n",
       "count                    1.065054e+07              1.066098e+07  \n",
       "mean                    -5.611531e+02             -6.405715e+02  \n",
       "std                      2.453970e+03              2.453193e+03  \n",
       "min                     -9.999000e+03             -9.999000e+03  \n",
       "25%                      6.100000e+01              6.000000e-01  \n",
       "50%                      7.900000e+01              2.000000e+00  \n",
       "75%                      9.100000e+01              3.500000e+00  \n",
       "max                      1.000000e+02              4.340000e+01  "
      ]
     },
     "execution_count": 4,
     "metadata": {},
     "output_type": "execute_result"
    }
   ],
   "source": [
    "df.describe()"
   ]
  },
  {
   "cell_type": "code",
   "execution_count": 5,
   "metadata": {},
   "outputs": [],
   "source": [
    "df.replace(-9999, np.nan, inplace=True) # replace weird values with na"
   ]
  },
  {
   "cell_type": "code",
   "execution_count": 6,
   "metadata": {},
   "outputs": [
    {
     "data": {
      "text/plain": [
       "PRECIPITAÇÃO_TOTAL_HORÁRIO                         1347860\n",
       "PRESSAO_ATMOSFERICA_AO_NIVEL_DA_ESTACAO_HORARIA    1034183\n",
       "RADIACAO_GLOBAL                                    6531266\n",
       "TEMPERATURA_DO_AR__BULBO_SECO_HORARIA              1036382\n",
       "TEMPERATURA_DO_PONTO_DE_ORVALHO                    1259133\n",
       "UMIDADE_RELATIVA_DO_AR_HORARIA                     1269826\n",
       "VENTO_VELOCIDADE_HORARIA                           1270437\n",
       "ESTACAO                                                  0\n",
       "UF                                                       0\n",
       "DATA_HORA                                                0\n",
       "dtype: int64"
      ]
     },
     "execution_count": 6,
     "metadata": {},
     "output_type": "execute_result"
    }
   ],
   "source": [
    "df.isna().sum()"
   ]
  },
  {
   "cell_type": "code",
   "execution_count": 9,
   "metadata": {},
   "outputs": [],
   "source": [
    "df_teste = df[[\"DATA_HORA\", \"TEMPERATURA_DO_PONTO_DE_ORVALHO\"]]"
   ]
  },
  {
   "cell_type": "code",
   "execution_count": 12,
   "metadata": {},
   "outputs": [],
   "source": [
    "sns.heatmap(df_teste.isna().transpose()) # missing values"
   ]
  }
 ],
 "metadata": {
  "interpreter": {
   "hash": "a077222d77dfe082b8f1dd562ad70e458ac2ab76993a0b248ab0476e32e9e8dd"
  },
  "kernelspec": {
   "display_name": "Python 3.8.8 64-bit (system)",
   "language": "python",
   "name": "python3"
  },
  "language_info": {
   "codemirror_mode": {
    "name": "ipython",
    "version": 3
   },
   "file_extension": ".py",
   "mimetype": "text/x-python",
   "name": "python",
   "nbconvert_exporter": "python",
   "pygments_lexer": "ipython3",
   "version": "3.8.8"
  },
  "orig_nbformat": 4
 },
 "nbformat": 4,
 "nbformat_minor": 2
}
