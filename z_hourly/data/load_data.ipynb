{
 "cells": [
  {
   "cell_type": "code",
   "execution_count": 1,
   "metadata": {},
   "outputs": [],
   "source": [
    "import pandas as pd\n",
    "import requests"
   ]
  },
  {
   "cell_type": "code",
   "execution_count": 7,
   "metadata": {},
   "outputs": [],
   "source": [
    "def download_carga_horaria(ano_inicio: int, ano_fim: int):\n",
    "    \"\"\" Função para fazer download dos dados de carga elétrica por subsistema no período de referência em base diária.\"\"\"\n",
    "\n",
    "    #url = \"https://ons-dl-prod-opendata.s3.amazonaws.com/dataset/carga_energia_di/CARGA_ENERGIA_{}.csv\"\n",
    "    url = \"https://ons-dl-prod-opendata.s3.amazonaws.com/dataset/curva-carga-ho/CURVA_CARGA_{}.csv\"\n",
    "    # verificar se anos inicial e final estão disponíveis\n",
    "    get0 = requests.get(url.format(ano_inicio)).status_code # verify = False (autenticação)\n",
    "    getn = requests.get(url.format(ano_fim)).status_code \n",
    "    if (get0 == 200) and (getn == 200): # 200: página (ano) disponível\n",
    "\n",
    "        # concatenar arquivos de cada ano em um único dataframe\n",
    "        df = pd.DataFrame()\n",
    "        for ano in range(ano_inicio, ano_fim + 1):\n",
    "            df2 = pd.read_csv(url.format(ano), sep = \";\")\n",
    "            df = pd.concat([df, df2])\n",
    "        df.columns = [\"id_reg\", \"desc_reg\", \"date\", \"load_mwmed\"]\n",
    "        df.loc[:, \"date\"] = pd.to_datetime(df.loc[:, \"date\"], format = '%Y-%m-%d %H:%M:%S')\n",
    "        df.sort_values(by = \"date\", inplace = True)\n",
    "        return df\n",
    "    \n",
    "    else:\n",
    "       print(\"Ano não disponível.\")\n",
    "\n",
    "\n",
    "def load_data():\n",
    "    \"\"\"\n",
    "    Função para ler e transformar os dados já presentes no diretório especificado\n",
    "    \"\"\"\n",
    "    path = \"hourly_load.csv\"\n",
    "    df_load = pd.read_csv(path, parse_dates = [\"date\"])\n",
    "    df_load2 = df_load[df_load[\"id_reg\"] == \"S\"]           # região sul\n",
    "    df_load3 = df_load2[df_load2[\"date\"] < '2022-06-01']  # data de corte\n",
    "    df_load4 = df_load3[[\"date\", \"load_mwmed\"]].set_index(\"date\")\n",
    "    return df_load4"
   ]
  },
  {
   "cell_type": "code",
   "execution_count": 12,
   "metadata": {},
   "outputs": [],
   "source": [
    "# df = download_carga_horaria(2000, 2022)\n",
    "# df.to_csv(\"hourly_load.csv\")"
   ]
  },
  {
   "cell_type": "code",
   "execution_count": 9,
   "metadata": {},
   "outputs": [
    {
     "data": {
      "text/html": [
       "<div>\n",
       "<style scoped>\n",
       "    .dataframe tbody tr th:only-of-type {\n",
       "        vertical-align: middle;\n",
       "    }\n",
       "\n",
       "    .dataframe tbody tr th {\n",
       "        vertical-align: top;\n",
       "    }\n",
       "\n",
       "    .dataframe thead th {\n",
       "        text-align: right;\n",
       "    }\n",
       "</style>\n",
       "<table border=\"1\" class=\"dataframe\">\n",
       "  <thead>\n",
       "    <tr style=\"text-align: right;\">\n",
       "      <th></th>\n",
       "      <th>load_mwmed</th>\n",
       "    </tr>\n",
       "    <tr>\n",
       "      <th>date</th>\n",
       "      <th></th>\n",
       "    </tr>\n",
       "  </thead>\n",
       "  <tbody>\n",
       "    <tr>\n",
       "      <th>2022-05-31 19:00:00</th>\n",
       "      <td>15044.825</td>\n",
       "    </tr>\n",
       "    <tr>\n",
       "      <th>2022-05-31 20:00:00</th>\n",
       "      <td>14277.058</td>\n",
       "    </tr>\n",
       "    <tr>\n",
       "      <th>2022-05-31 21:00:00</th>\n",
       "      <td>13664.627</td>\n",
       "    </tr>\n",
       "    <tr>\n",
       "      <th>2022-05-31 22:00:00</th>\n",
       "      <td>12612.263</td>\n",
       "    </tr>\n",
       "    <tr>\n",
       "      <th>2022-05-31 23:00:00</th>\n",
       "      <td>11290.224</td>\n",
       "    </tr>\n",
       "  </tbody>\n",
       "</table>\n",
       "</div>"
      ],
      "text/plain": [
       "                     load_mwmed\n",
       "date                           \n",
       "2022-05-31 19:00:00   15044.825\n",
       "2022-05-31 20:00:00   14277.058\n",
       "2022-05-31 21:00:00   13664.627\n",
       "2022-05-31 22:00:00   12612.263\n",
       "2022-05-31 23:00:00   11290.224"
      ]
     },
     "execution_count": 9,
     "metadata": {},
     "output_type": "execute_result"
    }
   ],
   "source": [
    "df = load_data()\n",
    "df.tail()"
   ]
  }
 ],
 "metadata": {
  "interpreter": {
   "hash": "a077222d77dfe082b8f1dd562ad70e458ac2ab76993a0b248ab0476e32e9e8dd"
  },
  "kernelspec": {
   "display_name": "Python 3.8.8 64-bit (system)",
   "language": "python",
   "name": "python3"
  },
  "language_info": {
   "codemirror_mode": {
    "name": "ipython",
    "version": 3
   },
   "file_extension": ".py",
   "mimetype": "text/x-python",
   "name": "python",
   "nbconvert_exporter": "python",
   "pygments_lexer": "ipython3",
   "version": "3.8.8"
  },
  "orig_nbformat": 4
 },
 "nbformat": 4,
 "nbformat_minor": 2
}
