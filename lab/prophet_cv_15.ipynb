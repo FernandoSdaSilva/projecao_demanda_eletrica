{
 "cells": [
  {
   "cell_type": "markdown",
   "metadata": {},
   "source": [
    "# Funções"
   ]
  },
  {
   "cell_type": "code",
   "execution_count": 9,
   "metadata": {},
   "outputs": [],
   "source": [
    "import pandas as pd\n",
    "import matplotlib.pyplot as plt\n",
    "import numpy as np\n",
    "from sklearn.metrics import mean_absolute_error\n",
    "from sklearn.metrics import mean_squared_error\n",
    "from sklearn.metrics import mean_squared_error\n",
    "from sklearn.metrics import mean_absolute_percentage_error\n",
    "from collections import defaultdict\n",
    "import json\n",
    "import warnings # retirar avisos\n",
    "warnings.filterwarnings('ignore')"
   ]
  },
  {
   "cell_type": "code",
   "execution_count": 2,
   "metadata": {},
   "outputs": [],
   "source": [
    "def load_data():\n",
    "    \"\"\"\n",
    "    Função para ler e transformar os dados já presentes no diretório especificado\n",
    "    \"\"\"\n",
    "    path = \"../data/daily_load.csv\"\n",
    "    df_load = pd.read_csv(path, parse_dates = [\"date\"])\n",
    "    df_load2 = df_load[df_load[\"id_reg\"] == \"S\"]           # região sul\n",
    "    df_load3 = df_load2[df_load2[\"date\"] <= '2022-05-31']  # data de corte\n",
    "    df_load4 = df_load3[[\"date\", \"load_mwmed\"]].set_index(\"date\")\n",
    "    return df_load4"
   ]
  },
  {
   "cell_type": "code",
   "execution_count": 3,
   "metadata": {},
   "outputs": [],
   "source": [
    "def train_test_split(data, n_test):\n",
    "    \"\"\"\n",
    "    Função para partir or dados em treino e teste\n",
    "    \"\"\"\n",
    "    if isinstance(data, pd.DataFrame):\n",
    "        train, test = data.iloc[:-n_test, :], data.iloc[-n_test:, :]\n",
    "    elif isinstance(data, np.ndarray):\n",
    "        train, test = data[:-n_test, :], data[-n_test:, :]\n",
    "    return train, test"
   ]
  },
  {
   "cell_type": "code",
   "execution_count": 4,
   "metadata": {},
   "outputs": [],
   "source": [
    "def create_future(start, t, cal_vars = False):\n",
    "    \"\"\" Função para criar DataFrame de datas (dias) seguintes a T, assim como as variáveis de calendário se cal_vars = True.\n",
    "       start: T + 1\n",
    "       t: períodos à frente \"\"\"\n",
    "    dates = pd.date_range(start, freq = 'd', periods = t)\n",
    "    df = pd.DataFrame(dates, columns = ['t'])\n",
    "    if cal_vars == True:\n",
    "        df = create_features(df, 't')\n",
    "    elif cal_vars == False:\n",
    "        pass\n",
    "    return df"
   ]
  },
  {
   "cell_type": "code",
   "execution_count": 5,
   "metadata": {},
   "outputs": [],
   "source": [
    "def get_measures(forecast, test):\n",
    "    \"\"\"\n",
    "    Função para obter medidas de acurária a partir dos dados de projeção e teste\n",
    "    \"\"\"\n",
    "    forecast.reset_index(drop = True, inplace = True)\n",
    "    test.reset_index(drop = True, inplace = True)\n",
    "    if isinstance(forecast, pd.Series) and isinstance(test, pd.Series):\n",
    "        errors = [(test.iloc[i] - forecast.iloc[i])**2 for i in range(len(test))]\n",
    "    else:\n",
    "        errors = [(test.iloc[i][0] - forecast.iloc[i])**2 for i in range(len(test))]\n",
    "    mae = mean_absolute_error(test, forecast)\n",
    "    mse = mean_squared_error(test, forecast)\n",
    "    rmse = np.sqrt(mse)\n",
    "    mape = mean_absolute_percentage_error(test, forecast)\n",
    "    # smape\n",
    "    a = np.reshape(test.values, (-1,))\n",
    "    b = np.reshape(forecast.values, (-1,))\n",
    "    smape = np.mean(100*2.0 * np.abs(a - b) / (np.abs(a) + np.abs(b))).item()\n",
    "    # dicionário com as medidas de erro\n",
    "    measures = { \"erro\": sum(errors),\n",
    "                 \"mae\": mae,\n",
    "                 \"mse\": mse,\n",
    "                 \"rmse\": rmse,\n",
    "                 \"mape\": mape,\n",
    "                 \"smape\": smape\n",
    "                }\n",
    "    # arredondamento\n",
    "    # for key, item in measures.items():\n",
    "    #     measures[key] = round(measures[key], 2)\n",
    "    return measures"
   ]
  },
  {
   "cell_type": "markdown",
   "metadata": {},
   "source": [
    "# Prophet\n",
    "Quick start: https://facebook.github.io/prophet/docs/quick_start.html <br>\n",
    "Holidays and special events: https://facebook.github.io/prophet/docs/seasonality,_holiday_effects,_and_regressors.html#modeling-holidays-and-special-events"
   ]
  },
  {
   "cell_type": "code",
   "execution_count": 6,
   "metadata": {},
   "outputs": [],
   "source": [
    "import fbprophet # conda install -c conda-forge fbprophet"
   ]
  },
  {
   "cell_type": "code",
   "execution_count": 7,
   "metadata": {},
   "outputs": [
    {
     "data": {
      "text/plain": [
       "'0.7.1'"
      ]
     },
     "execution_count": 7,
     "metadata": {},
     "output_type": "execute_result"
    }
   ],
   "source": [
    "fbprophet.__version__ # verifica versão do Prophet"
   ]
  },
  {
   "cell_type": "code",
   "execution_count": 8,
   "metadata": {},
   "outputs": [
    {
     "data": {
      "text/html": [
       "<div>\n",
       "<style scoped>\n",
       "    .dataframe tbody tr th:only-of-type {\n",
       "        vertical-align: middle;\n",
       "    }\n",
       "\n",
       "    .dataframe tbody tr th {\n",
       "        vertical-align: top;\n",
       "    }\n",
       "\n",
       "    .dataframe thead th {\n",
       "        text-align: right;\n",
       "    }\n",
       "</style>\n",
       "<table border=\"1\" class=\"dataframe\">\n",
       "  <thead>\n",
       "    <tr style=\"text-align: right;\">\n",
       "      <th></th>\n",
       "      <th>ds</th>\n",
       "      <th>y</th>\n",
       "    </tr>\n",
       "  </thead>\n",
       "  <tbody>\n",
       "    <tr>\n",
       "      <th>0</th>\n",
       "      <td>2000-01-01</td>\n",
       "      <td>4800.650000</td>\n",
       "    </tr>\n",
       "    <tr>\n",
       "      <th>1</th>\n",
       "      <td>2000-01-02</td>\n",
       "      <td>4899.800000</td>\n",
       "    </tr>\n",
       "    <tr>\n",
       "      <th>2</th>\n",
       "      <td>2000-01-03</td>\n",
       "      <td>6261.554167</td>\n",
       "    </tr>\n",
       "    <tr>\n",
       "      <th>3</th>\n",
       "      <td>2000-01-04</td>\n",
       "      <td>6733.741667</td>\n",
       "    </tr>\n",
       "    <tr>\n",
       "      <th>4</th>\n",
       "      <td>2000-01-05</td>\n",
       "      <td>6961.170833</td>\n",
       "    </tr>\n",
       "    <tr>\n",
       "      <th>...</th>\n",
       "      <td>...</td>\n",
       "      <td>...</td>\n",
       "    </tr>\n",
       "    <tr>\n",
       "      <th>8183</th>\n",
       "      <td>2022-05-27</td>\n",
       "      <td>12520.803833</td>\n",
       "    </tr>\n",
       "    <tr>\n",
       "      <th>8184</th>\n",
       "      <td>2022-05-28</td>\n",
       "      <td>10525.490875</td>\n",
       "    </tr>\n",
       "    <tr>\n",
       "      <th>8185</th>\n",
       "      <td>2022-05-29</td>\n",
       "      <td>9074.211250</td>\n",
       "    </tr>\n",
       "    <tr>\n",
       "      <th>8186</th>\n",
       "      <td>2022-05-30</td>\n",
       "      <td>11648.709583</td>\n",
       "    </tr>\n",
       "    <tr>\n",
       "      <th>8187</th>\n",
       "      <td>2022-05-31</td>\n",
       "      <td>12162.756792</td>\n",
       "    </tr>\n",
       "  </tbody>\n",
       "</table>\n",
       "<p>8188 rows × 2 columns</p>\n",
       "</div>"
      ],
      "text/plain": [
       "             ds             y\n",
       "0    2000-01-01   4800.650000\n",
       "1    2000-01-02   4899.800000\n",
       "2    2000-01-03   6261.554167\n",
       "3    2000-01-04   6733.741667\n",
       "4    2000-01-05   6961.170833\n",
       "...         ...           ...\n",
       "8183 2022-05-27  12520.803833\n",
       "8184 2022-05-28  10525.490875\n",
       "8185 2022-05-29   9074.211250\n",
       "8186 2022-05-30  11648.709583\n",
       "8187 2022-05-31  12162.756792\n",
       "\n",
       "[8188 rows x 2 columns]"
      ]
     },
     "execution_count": 8,
     "metadata": {},
     "output_type": "execute_result"
    }
   ],
   "source": [
    "df = load_data().reset_index()\n",
    "df.columns = ['ds','y']\n",
    "df"
   ]
  },
  {
   "cell_type": "code",
   "execution_count": null,
   "metadata": {},
   "outputs": [],
   "source": [
    "# h = 15\n",
    "# k_fold = 11\n",
    "\n",
    "# df_cv = pd.DataFrame()\n",
    "# for i in range(1, k_fold, 1):\n",
    "#     desloc= h + k_fold \n",
    "#     df_ = df.iloc[:(-desloc+i+1), :]\n",
    "#     print(df_.ds.min(), df_.ds.max())\n",
    "#     m = fbprophet.Prophet(daily_seasonality=True)\n",
    "#     model = m.fit(df_)\n",
    "#     future = m.make_future_dataframe(periods = 15, freq = 'D')\n",
    "#     prediction = m.predict(future)\n",
    "#     pred_ = prediction[['ds','yhat']].iloc[-15:]\n",
    "#     #test = df.iloc[(-desloc+i+1):]\n",
    "#     pred_[\"ult_dt_train\"] = df_.ds.max()\n",
    "#     df_cv = pd.concat([df_cv, pred_], axis = 0)\n",
    "\n",
    "# l = []\n",
    "# for dv_date in df_cv_2.ult_dt_train.unique():\n",
    "#     df_cv_2_ = df_cv_2[df_cv_2.ult_dt_train == dv_date]\n",
    "#     acuracia = get_measures(df_cv_2_.yhat, df_cv_2_.y)\n",
    "#     l.append(acuracia[\"mape\"])\n",
    "# print(l, sum(l)/len(l))"
   ]
  },
  {
   "cell_type": "code",
   "execution_count": 31,
   "metadata": {},
   "outputs": [
    {
     "name": "stdout",
     "output_type": "stream",
     "text": [
      "forecasting fold 15...\n",
      "forecasting fold 14...\n",
      "forecasting fold 13...\n",
      "forecasting fold 12...\n"
     ]
    },
    {
     "ename": "KeyboardInterrupt",
     "evalue": "",
     "output_type": "error",
     "traceback": [
      "\u001b[1;31m---------------------------------------------------------------------------\u001b[0m",
      "\u001b[1;31mKeyboardInterrupt\u001b[0m                         Traceback (most recent call last)",
      "\u001b[1;32mc:\\Users\\user\\Projetos\\projecao_demanda_eletrica\\lab\\prophet_cv_15.ipynb Cell 12'\u001b[0m in \u001b[0;36m<cell line: 6>\u001b[1;34m()\u001b[0m\n\u001b[0;32m     <a href='vscode-notebook-cell:/c%3A/Users/user/Projetos/projecao_demanda_eletrica/lab/prophet_cv_15.ipynb#X21sZmlsZQ%3D%3D?line=11'>12</a>\u001b[0m train\u001b[39m.\u001b[39mcolumns \u001b[39m=\u001b[39m [\u001b[39m'\u001b[39m\u001b[39mds\u001b[39m\u001b[39m'\u001b[39m, \u001b[39m'\u001b[39m\u001b[39my\u001b[39m\u001b[39m'\u001b[39m]\n\u001b[0;32m     <a href='vscode-notebook-cell:/c%3A/Users/user/Projetos/projecao_demanda_eletrica/lab/prophet_cv_15.ipynb#X21sZmlsZQ%3D%3D?line=12'>13</a>\u001b[0m m \u001b[39m=\u001b[39m fbprophet\u001b[39m.\u001b[39mProphet(daily_seasonality\u001b[39m=\u001b[39m\u001b[39mTrue\u001b[39;00m)\n\u001b[1;32m---> <a href='vscode-notebook-cell:/c%3A/Users/user/Projetos/projecao_demanda_eletrica/lab/prophet_cv_15.ipynb#X21sZmlsZQ%3D%3D?line=13'>14</a>\u001b[0m model \u001b[39m=\u001b[39m m\u001b[39m.\u001b[39;49mfit(train)\n\u001b[0;32m     <a href='vscode-notebook-cell:/c%3A/Users/user/Projetos/projecao_demanda_eletrica/lab/prophet_cv_15.ipynb#X21sZmlsZQ%3D%3D?line=14'>15</a>\u001b[0m future \u001b[39m=\u001b[39m m\u001b[39m.\u001b[39mmake_future_dataframe(periods \u001b[39m=\u001b[39m \u001b[39m15\u001b[39m, freq \u001b[39m=\u001b[39m \u001b[39m'\u001b[39m\u001b[39mD\u001b[39m\u001b[39m'\u001b[39m)\n\u001b[0;32m     <a href='vscode-notebook-cell:/c%3A/Users/user/Projetos/projecao_demanda_eletrica/lab/prophet_cv_15.ipynb#X21sZmlsZQ%3D%3D?line=15'>16</a>\u001b[0m prediction \u001b[39m=\u001b[39m m\u001b[39m.\u001b[39mpredict(future)\n",
      "File \u001b[1;32mc:\\Users\\user\\anaconda3\\lib\\site-packages\\fbprophet\\forecaster.py:1166\u001b[0m, in \u001b[0;36mProphet.fit\u001b[1;34m(self, df, **kwargs)\u001b[0m\n\u001b[0;32m   <a href='file:///c%3A/Users/user/anaconda3/lib/site-packages/fbprophet/forecaster.py?line=1163'>1164</a>\u001b[0m     \u001b[39mself\u001b[39m\u001b[39m.\u001b[39mparams \u001b[39m=\u001b[39m \u001b[39mself\u001b[39m\u001b[39m.\u001b[39mstan_backend\u001b[39m.\u001b[39msampling(stan_init, dat, \u001b[39mself\u001b[39m\u001b[39m.\u001b[39mmcmc_samples, \u001b[39m*\u001b[39m\u001b[39m*\u001b[39mkwargs)\n\u001b[0;32m   <a href='file:///c%3A/Users/user/anaconda3/lib/site-packages/fbprophet/forecaster.py?line=1164'>1165</a>\u001b[0m \u001b[39melse\u001b[39;00m:\n\u001b[1;32m-> <a href='file:///c%3A/Users/user/anaconda3/lib/site-packages/fbprophet/forecaster.py?line=1165'>1166</a>\u001b[0m     \u001b[39mself\u001b[39m\u001b[39m.\u001b[39mparams \u001b[39m=\u001b[39m \u001b[39mself\u001b[39;49m\u001b[39m.\u001b[39;49mstan_backend\u001b[39m.\u001b[39;49mfit(stan_init, dat, \u001b[39m*\u001b[39;49m\u001b[39m*\u001b[39;49mkwargs)\n\u001b[0;32m   <a href='file:///c%3A/Users/user/anaconda3/lib/site-packages/fbprophet/forecaster.py?line=1167'>1168</a>\u001b[0m \u001b[39m# If no changepoints were requested, replace delta with 0s\u001b[39;00m\n\u001b[0;32m   <a href='file:///c%3A/Users/user/anaconda3/lib/site-packages/fbprophet/forecaster.py?line=1168'>1169</a>\u001b[0m \u001b[39mif\u001b[39;00m \u001b[39mlen\u001b[39m(\u001b[39mself\u001b[39m\u001b[39m.\u001b[39mchangepoints) \u001b[39m==\u001b[39m \u001b[39m0\u001b[39m:\n\u001b[0;32m   <a href='file:///c%3A/Users/user/anaconda3/lib/site-packages/fbprophet/forecaster.py?line=1169'>1170</a>\u001b[0m     \u001b[39m# Fold delta into the base rate k\u001b[39;00m\n",
      "File \u001b[1;32mc:\\Users\\user\\anaconda3\\lib\\site-packages\\fbprophet\\models.py:245\u001b[0m, in \u001b[0;36mPyStanBackend.fit\u001b[1;34m(self, stan_init, stan_data, **kwargs)\u001b[0m\n\u001b[0;32m    <a href='file:///c%3A/Users/user/anaconda3/lib/site-packages/fbprophet/models.py?line=242'>243</a>\u001b[0m args\u001b[39m.\u001b[39mupdate(kwargs)\n\u001b[0;32m    <a href='file:///c%3A/Users/user/anaconda3/lib/site-packages/fbprophet/models.py?line=243'>244</a>\u001b[0m \u001b[39mtry\u001b[39;00m:\n\u001b[1;32m--> <a href='file:///c%3A/Users/user/anaconda3/lib/site-packages/fbprophet/models.py?line=244'>245</a>\u001b[0m     \u001b[39mself\u001b[39m\u001b[39m.\u001b[39mstan_fit \u001b[39m=\u001b[39m \u001b[39mself\u001b[39;49m\u001b[39m.\u001b[39;49mmodel\u001b[39m.\u001b[39;49moptimizing(\u001b[39m*\u001b[39;49m\u001b[39m*\u001b[39;49margs)\n\u001b[0;32m    <a href='file:///c%3A/Users/user/anaconda3/lib/site-packages/fbprophet/models.py?line=245'>246</a>\u001b[0m \u001b[39mexcept\u001b[39;00m \u001b[39mRuntimeError\u001b[39;00m:\n\u001b[0;32m    <a href='file:///c%3A/Users/user/anaconda3/lib/site-packages/fbprophet/models.py?line=246'>247</a>\u001b[0m     \u001b[39m# Fall back on Newton\u001b[39;00m\n\u001b[0;32m    <a href='file:///c%3A/Users/user/anaconda3/lib/site-packages/fbprophet/models.py?line=247'>248</a>\u001b[0m     logger\u001b[39m.\u001b[39mwarning(\n\u001b[0;32m    <a href='file:///c%3A/Users/user/anaconda3/lib/site-packages/fbprophet/models.py?line=248'>249</a>\u001b[0m         \u001b[39m'\u001b[39m\u001b[39mOptimization terminated abnormally. Falling back to Newton.\u001b[39m\u001b[39m'\u001b[39m\n\u001b[0;32m    <a href='file:///c%3A/Users/user/anaconda3/lib/site-packages/fbprophet/models.py?line=249'>250</a>\u001b[0m     )\n",
      "File \u001b[1;32mc:\\Users\\user\\anaconda3\\lib\\site-packages\\pystan\\model.py:581\u001b[0m, in \u001b[0;36mStanModel.optimizing\u001b[1;34m(self, data, seed, init, sample_file, algorithm, verbose, as_vector, **kwargs)\u001b[0m\n\u001b[0;32m    <a href='file:///c%3A/Users/user/anaconda3/lib/site-packages/pystan/model.py?line=577'>578</a>\u001b[0m stan_args\u001b[39m.\u001b[39mupdate(kwargs)\n\u001b[0;32m    <a href='file:///c%3A/Users/user/anaconda3/lib/site-packages/pystan/model.py?line=578'>579</a>\u001b[0m stan_args \u001b[39m=\u001b[39m pystan\u001b[39m.\u001b[39mmisc\u001b[39m.\u001b[39m_get_valid_stan_args(stan_args)\n\u001b[1;32m--> <a href='file:///c%3A/Users/user/anaconda3/lib/site-packages/pystan/model.py?line=580'>581</a>\u001b[0m ret, sample \u001b[39m=\u001b[39m fit\u001b[39m.\u001b[39;49m_call_sampler(stan_args)\n\u001b[0;32m    <a href='file:///c%3A/Users/user/anaconda3/lib/site-packages/pystan/model.py?line=581'>582</a>\u001b[0m pars \u001b[39m=\u001b[39m pystan\u001b[39m.\u001b[39mmisc\u001b[39m.\u001b[39m_par_vector2dict(sample[\u001b[39m'\u001b[39m\u001b[39mpar\u001b[39m\u001b[39m'\u001b[39m], m_pars, p_dims)\n\u001b[0;32m    <a href='file:///c%3A/Users/user/anaconda3/lib/site-packages/pystan/model.py?line=582'>583</a>\u001b[0m \u001b[39mif\u001b[39;00m \u001b[39mnot\u001b[39;00m as_vector:\n",
      "File \u001b[1;32mstanfit4anon_model_f5236004a3fd5b8429270d00efcc0cf9_9045703871880297330.pyx:1046\u001b[0m, in \u001b[0;36mstanfit4anon_model_f5236004a3fd5b8429270d00efcc0cf9_9045703871880297330.StanFit4Model._call_sampler\u001b[1;34m()\u001b[0m\n",
      "File \u001b[1;32mstanfit4anon_model_f5236004a3fd5b8429270d00efcc0cf9_9045703871880297330.pyx:411\u001b[0m, in \u001b[0;36mstanfit4anon_model_f5236004a3fd5b8429270d00efcc0cf9_9045703871880297330._call_sampler\u001b[1;34m()\u001b[0m\n",
      "File \u001b[1;32mstanfit4anon_model_f5236004a3fd5b8429270d00efcc0cf9_9045703871880297330.pyx:174\u001b[0m, in \u001b[0;36mstanfit4anon_model_f5236004a3fd5b8429270d00efcc0cf9_9045703871880297330._dict_from_stanargs\u001b[1;34m()\u001b[0m\n",
      "File \u001b[1;32mc:\\Users\\user\\anaconda3\\lib\\enum.py:339\u001b[0m, in \u001b[0;36mEnumMeta.__call__\u001b[1;34m(cls, value, names, module, qualname, type, start)\u001b[0m\n\u001b[0;32m    <a href='file:///c%3A/Users/user/anaconda3/lib/enum.py?line=313'>314</a>\u001b[0m \u001b[39m\"\"\"\u001b[39;00m\n\u001b[0;32m    <a href='file:///c%3A/Users/user/anaconda3/lib/enum.py?line=314'>315</a>\u001b[0m \u001b[39mEither returns an existing member, or creates a new enum class.\u001b[39;00m\n\u001b[0;32m    <a href='file:///c%3A/Users/user/anaconda3/lib/enum.py?line=315'>316</a>\u001b[0m \n\u001b[1;32m   (...)\u001b[0m\n\u001b[0;32m    <a href='file:///c%3A/Users/user/anaconda3/lib/enum.py?line=335'>336</a>\u001b[0m \u001b[39m`type`, if set, will be mixed in as the first base class.\u001b[39;00m\n\u001b[0;32m    <a href='file:///c%3A/Users/user/anaconda3/lib/enum.py?line=336'>337</a>\u001b[0m \u001b[39m\"\"\"\u001b[39;00m\n\u001b[0;32m    <a href='file:///c%3A/Users/user/anaconda3/lib/enum.py?line=337'>338</a>\u001b[0m \u001b[39mif\u001b[39;00m names \u001b[39mis\u001b[39;00m \u001b[39mNone\u001b[39;00m:  \u001b[39m# simple value lookup\u001b[39;00m\n\u001b[1;32m--> <a href='file:///c%3A/Users/user/anaconda3/lib/enum.py?line=338'>339</a>\u001b[0m     \u001b[39mreturn\u001b[39;00m \u001b[39mcls\u001b[39;49m\u001b[39m.\u001b[39;49m\u001b[39m__new__\u001b[39;49m(\u001b[39mcls\u001b[39m, value)\n\u001b[0;32m    <a href='file:///c%3A/Users/user/anaconda3/lib/enum.py?line=339'>340</a>\u001b[0m \u001b[39m# otherwise, functional API: we're creating a new Enum type\u001b[39;00m\n\u001b[0;32m    <a href='file:///c%3A/Users/user/anaconda3/lib/enum.py?line=340'>341</a>\u001b[0m \u001b[39mreturn\u001b[39;00m \u001b[39mcls\u001b[39m\u001b[39m.\u001b[39m_create_(\n\u001b[0;32m    <a href='file:///c%3A/Users/user/anaconda3/lib/enum.py?line=341'>342</a>\u001b[0m         value,\n\u001b[0;32m    <a href='file:///c%3A/Users/user/anaconda3/lib/enum.py?line=342'>343</a>\u001b[0m         names,\n\u001b[1;32m   (...)\u001b[0m\n\u001b[0;32m    <a href='file:///c%3A/Users/user/anaconda3/lib/enum.py?line=346'>347</a>\u001b[0m         start\u001b[39m=\u001b[39mstart,\n\u001b[0;32m    <a href='file:///c%3A/Users/user/anaconda3/lib/enum.py?line=347'>348</a>\u001b[0m         )\n",
      "\u001b[1;31mKeyboardInterrupt\u001b[0m: "
     ]
    }
   ],
   "source": [
    "folds = 15 #partições\n",
    "horz = n_test = 15 #horizonte de predição\n",
    "rows = df.shape[0]\n",
    "df_base = pd.DataFrame()\n",
    "for fold in range(folds,0,-1):\n",
    "    print(f\"forecasting fold {fold}...\")\n",
    "    #slide = rows-(fold*horz)#-1\n",
    "    slide = rows-((fold-1)*horz)\n",
    "    df_cv = df.iloc[:slide]\n",
    "    train, test = train_test_split(df, n_test)\n",
    "    train.columns = ['ds', 'y']\n",
    "    m = fbprophet.Prophet(daily_seasonality=True)\n",
    "    model = m.fit(train)\n",
    "    future = m.make_future_dataframe(periods = 15, freq = 'D')\n",
    "    prediction = m.predict(future)\n",
    "    pred_ = prediction[['ds','yhat']].iloc[-15:]\n",
    "    pred_[\"ult_dt_train\"] = df_cv.ds.max()\n",
    "    df_base = pd.concat([df_base, pred_], axis = 0)\n",
    "    out[f\"cv_{fold}\"][\"pred\"] = pred_[\"yhat\"]\n",
    "    out[f\"cv_{fold}\"][\"test\"] = test[\"y\"]\n",
    "d = dict(out)"
   ]
  },
  {
   "cell_type": "code",
   "execution_count": null,
   "metadata": {},
   "outputs": [
    {
     "name": "stdout",
     "output_type": "stream",
     "text": [
      "{'erro': 1681395.980425576, 'mae': 265.0477263651211, 'mse': 112093.06536170507, 'rmse': 334.80302472006593, 'mape': 0.024959958369317206, 'smape': 2.455641939496512}\n"
     ]
    }
   ],
   "source": [
    "mapes = []\n",
    "for x in d:\n",
    "    meas = get_measures(pd.Series(d[x][\"pred\"]),pd.Series(d[x][\"test\"]))\n",
    "    print(meas)\n",
    "    mapes.append(meas[\"mape\"])"
   ]
  },
  {
   "cell_type": "code",
   "execution_count": null,
   "metadata": {},
   "outputs": [],
   "source": [
    "np.mean(mapes)"
   ]
  },
  {
   "cell_type": "code",
   "execution_count": null,
   "metadata": {},
   "outputs": [],
   "source": [
    "with open('validation/prophet_cv.json', 'w') as f:\n",
    "    json.dump(d, f)"
   ]
  }
 ],
 "metadata": {
  "interpreter": {
   "hash": "a077222d77dfe082b8f1dd562ad70e458ac2ab76993a0b248ab0476e32e9e8dd"
  },
  "kernelspec": {
   "display_name": "Python 3.8.8 ('base')",
   "language": "python",
   "name": "python3"
  },
  "language_info": {
   "codemirror_mode": {
    "name": "ipython",
    "version": 3
   },
   "file_extension": ".py",
   "mimetype": "text/x-python",
   "name": "python",
   "nbconvert_exporter": "python",
   "pygments_lexer": "ipython3",
   "version": "3.8.8"
  },
  "orig_nbformat": 4,
  "vscode": {
   "interpreter": {
    "hash": "a077222d77dfe082b8f1dd562ad70e458ac2ab76993a0b248ab0476e32e9e8dd"
   }
  }
 },
 "nbformat": 4,
 "nbformat_minor": 2
}
