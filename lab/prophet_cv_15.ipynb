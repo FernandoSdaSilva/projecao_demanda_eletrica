{
 "cells": [
  {
   "cell_type": "markdown",
   "metadata": {},
   "source": [
    "# Funções"
   ]
  },
  {
   "cell_type": "code",
   "execution_count": 9,
   "metadata": {},
   "outputs": [],
   "source": [
    "import pandas as pd\n",
    "import matplotlib.pyplot as plt\n",
    "import numpy as np\n",
    "from sklearn.metrics import mean_absolute_error\n",
    "from sklearn.metrics import mean_squared_error\n",
    "from sklearn.metrics import mean_squared_error\n",
    "from sklearn.metrics import mean_absolute_percentage_error\n",
    "from collections import defaultdict\n",
    "import warnings # retirar avisos\n",
    "warnings.filterwarnings('ignore')"
   ]
  },
  {
   "cell_type": "code",
   "execution_count": 2,
   "metadata": {},
   "outputs": [],
   "source": [
    "def load_data():\n",
    "    \"\"\"\n",
    "    Função para ler e transformar os dados já presentes no diretório especificado\n",
    "    \"\"\"\n",
    "    path = \"../data/daily_load.csv\"\n",
    "    df_load = pd.read_csv(path, parse_dates = [\"date\"])\n",
    "    df_load2 = df_load[df_load[\"id_reg\"] == \"S\"]           # região sul\n",
    "    df_load3 = df_load2[df_load2[\"date\"] <= '2022-05-31']  # data de corte\n",
    "    df_load4 = df_load3[[\"date\", \"load_mwmed\"]].set_index(\"date\")\n",
    "    return df_load4"
   ]
  },
  {
   "cell_type": "code",
   "execution_count": 3,
   "metadata": {},
   "outputs": [],
   "source": [
    "def train_test_split(data, n_test):\n",
    "    \"\"\"\n",
    "    Função para partir or dados em treino e teste\n",
    "    \"\"\"\n",
    "    if isinstance(data, pd.DataFrame):\n",
    "        train, test = data.iloc[:-n_test, :], data.iloc[-n_test:, :]\n",
    "    elif isinstance(data, np.ndarray):\n",
    "        train, test = data[:-n_test, :], data[-n_test:, :]\n",
    "    return train, test"
   ]
  },
  {
   "cell_type": "code",
   "execution_count": 4,
   "metadata": {},
   "outputs": [],
   "source": [
    "def create_future(start, t, cal_vars = False):\n",
    "    \"\"\" Função para criar DataFrame de datas (dias) seguintes a T, assim como as variáveis de calendário se cal_vars = True.\n",
    "       start: T + 1\n",
    "       t: períodos à frente \"\"\"\n",
    "    dates = pd.date_range(start, freq = 'd', periods = t)\n",
    "    df = pd.DataFrame(dates, columns = ['t'])\n",
    "    if cal_vars == True:\n",
    "        df = create_features(df, 't')\n",
    "    elif cal_vars == False:\n",
    "        pass\n",
    "    return df"
   ]
  },
  {
   "cell_type": "code",
   "execution_count": 5,
   "metadata": {},
   "outputs": [],
   "source": [
    "def get_measures(forecast, test):\n",
    "    \"\"\"\n",
    "    Função para obter medidas de acurária a partir dos dados de projeção e teste\n",
    "    \"\"\"\n",
    "    forecast.reset_index(drop = True, inplace = True)\n",
    "    test.reset_index(drop = True, inplace = True)\n",
    "    if isinstance(forecast, pd.Series) and isinstance(test, pd.Series):\n",
    "        errors = [(test.iloc[i] - forecast.iloc[i])**2 for i in range(len(test))]\n",
    "    else:\n",
    "        errors = [(test.iloc[i][0] - forecast.iloc[i])**2 for i in range(len(test))]\n",
    "    mae = mean_absolute_error(test, forecast)\n",
    "    mse = mean_squared_error(test, forecast)\n",
    "    rmse = np.sqrt(mse)\n",
    "    mape = mean_absolute_percentage_error(test, forecast)\n",
    "    # smape\n",
    "    a = np.reshape(test.values, (-1,))\n",
    "    b = np.reshape(forecast.values, (-1,))\n",
    "    smape = np.mean(100*2.0 * np.abs(a - b) / (np.abs(a) + np.abs(b))).item()\n",
    "    # dicionário com as medidas de erro\n",
    "    measures = { \"erro\": sum(errors),\n",
    "                 \"mae\": mae,\n",
    "                 \"mse\": mse,\n",
    "                 \"rmse\": rmse,\n",
    "                 \"mape\": mape,\n",
    "                 \"smape\": smape\n",
    "                }\n",
    "    # arredondamento\n",
    "    # for key, item in measures.items():\n",
    "    #     measures[key] = round(measures[key], 2)\n",
    "    return measures"
   ]
  },
  {
   "cell_type": "markdown",
   "metadata": {},
   "source": [
    "# Prophet\n",
    "Quick start: https://facebook.github.io/prophet/docs/quick_start.html <br>\n",
    "Holidays and special events: https://facebook.github.io/prophet/docs/seasonality,_holiday_effects,_and_regressors.html#modeling-holidays-and-special-events"
   ]
  },
  {
   "cell_type": "code",
   "execution_count": 6,
   "metadata": {},
   "outputs": [],
   "source": [
    "import fbprophet # conda install -c conda-forge fbprophet"
   ]
  },
  {
   "cell_type": "code",
   "execution_count": 7,
   "metadata": {},
   "outputs": [
    {
     "data": {
      "text/plain": [
       "'0.7.1'"
      ]
     },
     "execution_count": 7,
     "metadata": {},
     "output_type": "execute_result"
    }
   ],
   "source": [
    "fbprophet.__version__ # verifica versão do Prophet"
   ]
  },
  {
   "cell_type": "code",
   "execution_count": 8,
   "metadata": {},
   "outputs": [
    {
     "data": {
      "text/html": [
       "<div>\n",
       "<style scoped>\n",
       "    .dataframe tbody tr th:only-of-type {\n",
       "        vertical-align: middle;\n",
       "    }\n",
       "\n",
       "    .dataframe tbody tr th {\n",
       "        vertical-align: top;\n",
       "    }\n",
       "\n",
       "    .dataframe thead th {\n",
       "        text-align: right;\n",
       "    }\n",
       "</style>\n",
       "<table border=\"1\" class=\"dataframe\">\n",
       "  <thead>\n",
       "    <tr style=\"text-align: right;\">\n",
       "      <th></th>\n",
       "      <th>ds</th>\n",
       "      <th>y</th>\n",
       "    </tr>\n",
       "  </thead>\n",
       "  <tbody>\n",
       "    <tr>\n",
       "      <th>0</th>\n",
       "      <td>2000-01-01</td>\n",
       "      <td>4800.650000</td>\n",
       "    </tr>\n",
       "    <tr>\n",
       "      <th>1</th>\n",
       "      <td>2000-01-02</td>\n",
       "      <td>4899.800000</td>\n",
       "    </tr>\n",
       "    <tr>\n",
       "      <th>2</th>\n",
       "      <td>2000-01-03</td>\n",
       "      <td>6261.554167</td>\n",
       "    </tr>\n",
       "    <tr>\n",
       "      <th>3</th>\n",
       "      <td>2000-01-04</td>\n",
       "      <td>6733.741667</td>\n",
       "    </tr>\n",
       "    <tr>\n",
       "      <th>4</th>\n",
       "      <td>2000-01-05</td>\n",
       "      <td>6961.170833</td>\n",
       "    </tr>\n",
       "    <tr>\n",
       "      <th>...</th>\n",
       "      <td>...</td>\n",
       "      <td>...</td>\n",
       "    </tr>\n",
       "    <tr>\n",
       "      <th>8183</th>\n",
       "      <td>2022-05-27</td>\n",
       "      <td>12520.803833</td>\n",
       "    </tr>\n",
       "    <tr>\n",
       "      <th>8184</th>\n",
       "      <td>2022-05-28</td>\n",
       "      <td>10525.490875</td>\n",
       "    </tr>\n",
       "    <tr>\n",
       "      <th>8185</th>\n",
       "      <td>2022-05-29</td>\n",
       "      <td>9074.211250</td>\n",
       "    </tr>\n",
       "    <tr>\n",
       "      <th>8186</th>\n",
       "      <td>2022-05-30</td>\n",
       "      <td>11648.709583</td>\n",
       "    </tr>\n",
       "    <tr>\n",
       "      <th>8187</th>\n",
       "      <td>2022-05-31</td>\n",
       "      <td>12162.756792</td>\n",
       "    </tr>\n",
       "  </tbody>\n",
       "</table>\n",
       "<p>8188 rows × 2 columns</p>\n",
       "</div>"
      ],
      "text/plain": [
       "             ds             y\n",
       "0    2000-01-01   4800.650000\n",
       "1    2000-01-02   4899.800000\n",
       "2    2000-01-03   6261.554167\n",
       "3    2000-01-04   6733.741667\n",
       "4    2000-01-05   6961.170833\n",
       "...         ...           ...\n",
       "8183 2022-05-27  12520.803833\n",
       "8184 2022-05-28  10525.490875\n",
       "8185 2022-05-29   9074.211250\n",
       "8186 2022-05-30  11648.709583\n",
       "8187 2022-05-31  12162.756792\n",
       "\n",
       "[8188 rows x 2 columns]"
      ]
     },
     "execution_count": 8,
     "metadata": {},
     "output_type": "execute_result"
    }
   ],
   "source": [
    "df = load_data().reset_index()\n",
    "df.columns = ['ds','y']\n",
    "df"
   ]
  },
  {
   "cell_type": "code",
   "execution_count": null,
   "metadata": {},
   "outputs": [],
   "source": [
    "h = 15\n",
    "k_fold = 11\n",
    "\n",
    "df_cv = pd.DataFrame()\n",
    "for i in range(1, k_fold, 1):\n",
    "    desloc= h + k_fold \n",
    "    df_ = df.iloc[:(-desloc+i+1), :]\n",
    "    print(df_.ds.min(), df_.ds.max())\n",
    "    m = fbprophet.Prophet(daily_seasonality=True)\n",
    "    model = m.fit(df_)\n",
    "    future = m.make_future_dataframe(periods = 15, freq = 'D')\n",
    "    prediction = m.predict(future)\n",
    "    pred_ = prediction[['ds','yhat']].iloc[-15:]\n",
    "    #test = df.iloc[(-desloc+i+1):]\n",
    "    pred_[\"ult_dt_train\"] = df_.ds.max()\n",
    "    df_cv = pd.concat([df_cv, pred_], axis = 0)"
   ]
  },
  {
   "cell_type": "code",
   "execution_count": 146,
   "metadata": {},
   "outputs": [
    {
     "name": "stdout",
     "output_type": "stream",
     "text": [
      "[0.07077105194984414, 0.05370674274273128, 0.04681387381762834, 0.04311435640466109, 0.0405002643223417, 0.037236122791958, 0.03387277733960352, 0.03183900457840286, 0.02762989562026731, 0.025034444834939874]\n"
     ]
    }
   ],
   "source": [
    "l = []\n",
    "for dv_date in df_cv_2.ult_dt_train.unique():\n",
    "    df_cv_2_ = df_cv_2[df_cv_2.ult_dt_train == dv_date]\n",
    "    acuracia = get_measures(df_cv_2_.yhat, df_cv_2_.y)\n",
    "    l.append(acuracia[\"mape\"])\n",
    "print(l, sum(l)/len(l))"
   ]
  },
  {
   "cell_type": "code",
   "execution_count": 148,
   "metadata": {},
   "outputs": [
    {
     "data": {
      "text/html": [
       "<div>\n",
       "<style scoped>\n",
       "    .dataframe tbody tr th:only-of-type {\n",
       "        vertical-align: middle;\n",
       "    }\n",
       "\n",
       "    .dataframe tbody tr th {\n",
       "        vertical-align: top;\n",
       "    }\n",
       "\n",
       "    .dataframe thead th {\n",
       "        text-align: right;\n",
       "    }\n",
       "</style>\n",
       "<table border=\"1\" class=\"dataframe\">\n",
       "  <thead>\n",
       "    <tr style=\"text-align: right;\">\n",
       "      <th></th>\n",
       "      <th>ds</th>\n",
       "      <th>yhat</th>\n",
       "      <th>ult_dt_train</th>\n",
       "      <th>y</th>\n",
       "    </tr>\n",
       "  </thead>\n",
       "  <tbody>\n",
       "    <tr>\n",
       "      <th>9</th>\n",
       "      <td>2022-05-17</td>\n",
       "      <td>12229.962169</td>\n",
       "      <td>2022-05-07</td>\n",
       "      <td>11964.909375</td>\n",
       "    </tr>\n",
       "    <tr>\n",
       "      <th>23</th>\n",
       "      <td>2022-05-17</td>\n",
       "      <td>12224.268394</td>\n",
       "      <td>2022-05-08</td>\n",
       "      <td>11964.909375</td>\n",
       "    </tr>\n",
       "    <tr>\n",
       "      <th>37</th>\n",
       "      <td>2022-05-17</td>\n",
       "      <td>12219.548759</td>\n",
       "      <td>2022-05-09</td>\n",
       "      <td>11964.909375</td>\n",
       "    </tr>\n",
       "    <tr>\n",
       "      <th>51</th>\n",
       "      <td>2022-05-17</td>\n",
       "      <td>12215.067467</td>\n",
       "      <td>2022-05-10</td>\n",
       "      <td>11964.909375</td>\n",
       "    </tr>\n",
       "    <tr>\n",
       "      <th>65</th>\n",
       "      <td>2022-05-17</td>\n",
       "      <td>12214.314448</td>\n",
       "      <td>2022-05-11</td>\n",
       "      <td>11964.909375</td>\n",
       "    </tr>\n",
       "    <tr>\n",
       "      <th>79</th>\n",
       "      <td>2022-05-17</td>\n",
       "      <td>12211.059129</td>\n",
       "      <td>2022-05-12</td>\n",
       "      <td>11964.909375</td>\n",
       "    </tr>\n",
       "    <tr>\n",
       "      <th>93</th>\n",
       "      <td>2022-05-17</td>\n",
       "      <td>12206.755787</td>\n",
       "      <td>2022-05-13</td>\n",
       "      <td>11964.909375</td>\n",
       "    </tr>\n",
       "    <tr>\n",
       "      <th>107</th>\n",
       "      <td>2022-05-17</td>\n",
       "      <td>12204.055145</td>\n",
       "      <td>2022-05-14</td>\n",
       "      <td>11964.909375</td>\n",
       "    </tr>\n",
       "    <tr>\n",
       "      <th>121</th>\n",
       "      <td>2022-05-17</td>\n",
       "      <td>12200.769751</td>\n",
       "      <td>2022-05-15</td>\n",
       "      <td>11964.909375</td>\n",
       "    </tr>\n",
       "    <tr>\n",
       "      <th>135</th>\n",
       "      <td>2022-05-17</td>\n",
       "      <td>12200.141516</td>\n",
       "      <td>2022-05-16</td>\n",
       "      <td>11964.909375</td>\n",
       "    </tr>\n",
       "  </tbody>\n",
       "</table>\n",
       "</div>"
      ],
      "text/plain": [
       "            ds          yhat ult_dt_train             y\n",
       "9   2022-05-17  12229.962169   2022-05-07  11964.909375\n",
       "23  2022-05-17  12224.268394   2022-05-08  11964.909375\n",
       "37  2022-05-17  12219.548759   2022-05-09  11964.909375\n",
       "51  2022-05-17  12215.067467   2022-05-10  11964.909375\n",
       "65  2022-05-17  12214.314448   2022-05-11  11964.909375\n",
       "79  2022-05-17  12211.059129   2022-05-12  11964.909375\n",
       "93  2022-05-17  12206.755787   2022-05-13  11964.909375\n",
       "107 2022-05-17  12204.055145   2022-05-14  11964.909375\n",
       "121 2022-05-17  12200.769751   2022-05-15  11964.909375\n",
       "135 2022-05-17  12200.141516   2022-05-16  11964.909375"
      ]
     },
     "execution_count": 148,
     "metadata": {},
     "output_type": "execute_result"
    }
   ],
   "source": [
    "df_cv_2[df_cv_2[\"ds\"] == \"2022-05-17\"]"
   ]
  },
  {
   "cell_type": "code",
   "execution_count": null,
   "metadata": {},
   "outputs": [],
   "source": []
  },
  {
   "cell_type": "code",
   "execution_count": null,
   "metadata": {},
   "outputs": [],
   "source": []
  },
  {
   "cell_type": "code",
   "execution_count": 13,
   "metadata": {},
   "outputs": [],
   "source": [
    "folds = 2 #partições\n",
    "horz = 15 #horizonte de predição\n",
    "rows = df.shape[0]\n",
    "#out = defaultdict(dict)\n",
    "df_base = pd.DataFrame()\n",
    "for fold in range(folds,0,-1):\n",
    "    print(f\"forecasting fold {fold}...\")\n",
    "    #slide = rows-(fold*horz)#-1\n",
    "    slide = rows-((fold-1)*horz)\n",
    "    df_cv = df.iloc[:slide]\n",
    "    m = fbprophet.Prophet(daily_seasonality=True)\n",
    "    model = m.fit(df_cv)\n",
    "    future = m.make_future_dataframe(periods = 15, freq = 'D')\n",
    "    prediction = m.predict(future)\n",
    "    pred_ = prediction[['ds','yhat']].iloc[-15:]\n",
    "    pred_[\"ult_dt_train\"] = df_cv.ds.max()\n",
    "    df_cv = pd.concat([df_base, pred_], axis = 0)"
   ]
  },
  {
   "cell_type": "code",
   "execution_count": null,
   "metadata": {},
   "outputs": [],
   "source": []
  }
 ],
 "metadata": {
  "interpreter": {
   "hash": "a077222d77dfe082b8f1dd562ad70e458ac2ab76993a0b248ab0476e32e9e8dd"
  },
  "kernelspec": {
   "display_name": "Python 3.8.8 ('base')",
   "language": "python",
   "name": "python3"
  },
  "language_info": {
   "codemirror_mode": {
    "name": "ipython",
    "version": 3
   },
   "file_extension": ".py",
   "mimetype": "text/x-python",
   "name": "python",
   "nbconvert_exporter": "python",
   "pygments_lexer": "ipython3",
   "version": "3.8.8"
  },
  "orig_nbformat": 4,
  "vscode": {
   "interpreter": {
    "hash": "a077222d77dfe082b8f1dd562ad70e458ac2ab76993a0b248ab0476e32e9e8dd"
   }
  }
 },
 "nbformat": 4,
 "nbformat_minor": 2
}
