{
 "cells": [
  {
   "cell_type": "markdown",
   "metadata": {},
   "source": [
    "# LightGBM"
   ]
  },
  {
   "cell_type": "code",
   "execution_count": 1,
   "metadata": {},
   "outputs": [],
   "source": [
    "#https://www.youtube.com/watch?v=fG8H-0rb0mY\n",
    "#https://machinelearningmastery.com/light-gradient-boosted-machine-lightgbm-ensemble/"
   ]
  },
  {
   "cell_type": "code",
   "execution_count": 68,
   "metadata": {},
   "outputs": [],
   "source": [
    "import pandas as pd\n",
    "import matplotlib.pyplot as plt\n",
    "from matplotlib import rcParams\n",
    "import numpy as np\n",
    "from sklearn.metrics import mean_absolute_error\n",
    "from sklearn.metrics import mean_squared_error\n",
    "from sklearn.metrics import mean_squared_error\n",
    "from sklearn.metrics import mean_absolute_percentage_error\n",
    "from sktime.performance_metrics.forecasting import     MeanAbsolutePercentageError\n",
    "from math import sqrt\n",
    "from sklearn.metrics import r2_score\n",
    "import lightgbm as lgb\n",
    "import warnings\n",
    "warnings.filterwarnings(\"ignore\")"
   ]
  },
  {
   "cell_type": "code",
   "execution_count": 48,
   "metadata": {},
   "outputs": [],
   "source": [
    "plt.style.use('fivethirtyeight') # estilo dos gráficos\n",
    "rcParams['figure.figsize'] = 15, 5 # tamanho das figuras"
   ]
  },
  {
   "cell_type": "code",
   "execution_count": 49,
   "metadata": {},
   "outputs": [
    {
     "data": {
      "text/plain": [
       "'3.3.2'"
      ]
     },
     "execution_count": 49,
     "metadata": {},
     "output_type": "execute_result"
    }
   ],
   "source": [
    "lgb.__version__"
   ]
  },
  {
   "cell_type": "code",
   "execution_count": 50,
   "metadata": {},
   "outputs": [],
   "source": [
    "def load_data():\n",
    "    \"\"\"\n",
    "    Função para ler e transformar os dados já presentes no diretório especificado\n",
    "    \"\"\"\n",
    "    path = \"../data/daily_load.csv\"\n",
    "    df_load = pd.read_csv(path, parse_dates = [\"date\"])\n",
    "    df_load2 = df_load[df_load[\"id_reg\"] == \"S\"]           # região sul\n",
    "    df_load3 = df_load2[df_load2[\"date\"] <= '2022-05-31']  # data de corte\n",
    "    df_load4 = df_load3[[\"date\", \"load_mwmed\"]].set_index(\"date\")\n",
    "    return df_load4\n",
    "\n",
    "def series_to_supervised(data, n_in = 1, n_out = 1, dropnan = True):\n",
    "    \"\"\"\n",
    "    Frame a time series as a supervised learning dataset.\n",
    "    Arguments:\n",
    "        data: Sequence of observations as a list or NumPy array.\n",
    "        n_in: Number of lag observations as input (X).\n",
    "        n_out: Number of observations as output (y).\n",
    "        dropnan: Boolean whether or not to drop rows with NaN values.\n",
    "    Returns:\n",
    "        Pandas DataFrame of series framed for supervised learning.\n",
    "    \"\"\"\n",
    "    n_vars = 1 if type(data) is list else data.shape[1]\n",
    "    df = pd.DataFrame(data)\n",
    "    cols, names = list(), list()\n",
    "    # input sequence (t-n, ... t-1)\n",
    "    for i in range(n_in, 0, -1):\n",
    "        cols.append(df.shift(i))\n",
    "        names += [('var%d(t-%d)' % (j+1, i)) for j in range(n_vars)]\n",
    "    # forecast sequence (t, t+1, ... t+n)\n",
    "    for i in range(0, n_out):\n",
    "        cols.append(df.shift(-i))\n",
    "        if i == 0:\n",
    "            names += [('var%d(t)' % (j+1)) for j in range(n_vars)]\n",
    "        else:\n",
    "            names += [('var%d(t+%d)' % (j+1, i)) for j in range(n_vars)]\n",
    "    # put it all together\n",
    "    agg = pd.concat(cols, axis = 1)\n",
    "    agg.columns = names\n",
    "    # drop rows with NaN values\n",
    "    if dropnan:\n",
    "        agg.dropna(inplace = True)\n",
    "    return agg\n",
    "\n",
    "def train_test_split(data, n_test):\n",
    "    if isinstance(data, pd.DataFrame):\n",
    "        train, test = data.iloc[:-n_test, :], data.iloc[-n_test:, :]\n",
    "    elif isinstance(data, np.ndarray):\n",
    "        train, test = data[:-n_test, :], data[-n_test:, :]\n",
    "    return train, test\n",
    "\n",
    "def get_measures(forecast, test):\n",
    "    \"\"\"\n",
    "    Função para obter medidas de acurária a partir dos dados de projeção e teste\n",
    "    \"\"\"\n",
    "    forecast.reset_index(drop = True, inplace = True)\n",
    "    test.reset_index(drop = True, inplace = True)\n",
    "    if isinstance(forecast, pd.Series) and isinstance(test, pd.Series):\n",
    "        errors = [(test.iloc[i] - forecast.iloc[i])**2 for i in range(len(test))]\n",
    "    else:\n",
    "        errors = [(test.iloc[i][0] - forecast.iloc[i])**2 for i in range(len(test))]\n",
    "    mae = mean_absolute_error(test, forecast)\n",
    "    mse = mean_squared_error(test, forecast)\n",
    "    rmse = sqrt(mse)\n",
    "    mape = mean_absolute_percentage_error(test, forecast)\n",
    "    # smape\n",
    "    # a = np.reshape(test.values, (-1,))\n",
    "    # b = np.reshape(forecast.values, (-1,))\n",
    "    # smape = np.mean(100*2.0 * np.abs(a - b) / (np.abs(a) + np.abs(b))).item()\n",
    "    smape_ = MeanAbsolutePercentageError(symmetric=True)\n",
    "    smape = smape_(test, forecast)\n",
    "    r2 = r2_score(test, forecast)\n",
    "    # dicionário com as medidas de erro\n",
    "    measures = { \"erro\": sum(errors),\n",
    "                 \"mae\": mae,\n",
    "                 \"mse\": mse,\n",
    "                 \"rmse\": rmse,\n",
    "                 \"mape\": mape,\n",
    "                 \"smape\": smape,\n",
    "                 \"r2\": r2\n",
    "                }\n",
    "    # arredondamento\n",
    "    for key, item in measures.items():\n",
    "        measures[key] = round(measures[key], 6)\n",
    "    return measures"
   ]
  },
  {
   "cell_type": "code",
   "execution_count": 66,
   "metadata": {},
   "outputs": [],
   "source": [
    "def multi_step_forecast(data, n):\n",
    "    n_test = outs = n\n",
    "    train, test = train_test_split(data, n_test)\n",
    "    train.dropna(inplace = True)\n",
    "    response_vars = data.columns[-(outs):]\n",
    "    predictions = list()\n",
    "    for h, response in enumerate(response_vars):\n",
    "        cols = [x for x in data.columns[:data.shape[1] - outs]]\n",
    "        cols.append(response)\n",
    "        data_ = train[cols]\n",
    "        nrows = data_.shape[0]\n",
    "        data_ = data_.iloc[:nrows-h, :] \n",
    "        data_X, data_y = data_.iloc[:, :-1], data_.iloc[:, -1]\n",
    "        model = lgb.LGBMRegressor(objective='regression', n_estimators=1000)\n",
    "        model.fit(data_X, data_y)\n",
    "        testX, testy = test.reset_index(drop=True).loc[0, :\"var1(t-1)\"], test.reset_index(drop=True).loc[0, response]\n",
    "        pred = model.predict([testX])[0]\n",
    "        #print(f\"Predicting {response}\\n  > expected: {testy}, predicted: {pred}\")\n",
    "        predictions.append(pred)\n",
    "    measures = get_measures(pd.Series(predictions), test[\"var1(t)\"])\n",
    "    df_measures = pd.DataFrame([measures])\n",
    "    return predictions, df_measures, test"
   ]
  },
  {
   "cell_type": "code",
   "execution_count": 87,
   "metadata": {},
   "outputs": [
    {
     "name": "stdout",
     "output_type": "stream",
     "text": [
      "Predicting with 5 lags...\n"
     ]
    }
   ],
   "source": [
    "d = []\n",
    "n_test = outs = 15\n",
    "for x in range(5, 0, -1):\n",
    "    lag = x\n",
    "\n",
    "    df_load = load_data()\n",
    "    df_weather = pd.read_csv(\"../data/weather_daily_data.csv\", parse_dates=[\"DATA\"])\n",
    "    df_weather = df_weather[df_weather.DATA.isin(df_load.index)]\n",
    "    df_load = df_load[df_weather.DATA.min():df_weather.DATA.max()] \n",
    "    df_load_2 = df_load.reset_index()\n",
    "    df_merged = pd.merge(df_weather, df_load_2, left_on = \"DATA\", right_on = \"date\", how = \"outer\")\n",
    "    df_merged.drop(\"date\", axis = 1, inplace = True)\n",
    "    df_merged.dropna(how = \"all\", inplace = True)\n",
    "    df_merged.sort_values(by = \"DATA\", inplace = True)\n",
    "    df_merged.load_mwmed = df_merged.load_mwmed.interpolate(method=\"linear\")\n",
    "    df_load_3 = df_merged.load_mwmed\n",
    "    df_load_3.index = df_merged.DATA\n",
    "    df_load_3 = df_load_3[\"2008-01-01\":] # TESTE: MAPE PASSOU DE 3,2 PARA 3,0\n",
    "    values = df_load_3.values.tolist()\n",
    "    data1 = series_to_supervised(values, n_in = lag, n_out=outs, dropnan=False)\n",
    "\n",
    "    data2 = pd.DataFrame()\n",
    "    df_weather.set_index(\"DATA\", inplace=True) # TESTE: MAPE PASSOU DE 3,2 PARA 3,0\n",
    "    df_weather = df_weather[\"2008-01-01\":] # TESTE: MAPE PASSOU DE 3,2 PARA 3,0\n",
    "    for col in df_weather.columns:\n",
    "        if col == \"DATA\":\n",
    "            continue\n",
    "        else:\n",
    "            values = df_weather[col].values.tolist()\n",
    "            df_ = series_to_supervised(values, n_in = lag, dropnan=False)\n",
    "            df_.drop(\"var1(t)\", axis = 1, inplace = True) # the response variable is the load dataframe\n",
    "            df_.columns = [f\"{x}_{col}\" for x in df_.columns]\n",
    "            data2 = pd.concat([data2, df_], axis = 1)\n",
    "    \n",
    "    df_weather_load = pd.concat([data2, data1], axis = 1)\n",
    "\n",
    "    print(f\"Predicting with {lag} lags...\")\n",
    "    pred, measures, test = multi_step_forecast(df_weather_load, outs)\n",
    "    new_line = {\"lags\": lag, \"predictions\": pred, \"MAPE\": measures[\"mape\"][0]}\n",
    "    d.append(new_line)\n",
    "df_lags_est = pd.DataFrame(d)"
   ]
  },
  {
   "cell_type": "code",
   "execution_count": null,
   "metadata": {},
   "outputs": [
    {
     "data": {
      "text/plain": [
       "[<matplotlib.lines.Line2D at 0x1e1410d7b20>]"
      ]
     },
     "execution_count": 85,
     "metadata": {},
     "output_type": "execute_result"
    },
    {
     "data": {
      "image/png": "[encoded data removed]",
      "text/plain": [
       "<Figure size 1080x360 with 1 Axes>"
      ]
     },
     "metadata": {},
     "output_type": "display_data"
    }
   ],
   "source": [
    "plt.figure()\n",
    "\n",
    "plt.plot(df_lags_est.lags, df_lags_est.measures)"
   ]
  },
  {
   "cell_type": "code",
   "execution_count": null,
   "metadata": {},
   "outputs": [],
   "source": []
  }
 ],
 "metadata": {
  "interpreter": {
   "hash": "a077222d77dfe082b8f1dd562ad70e458ac2ab76993a0b248ab0476e32e9e8dd"
  },
  "kernelspec": {
   "display_name": "Python 3.8.8 ('base')",
   "language": "python",
   "name": "python3"
  },
  "language_info": {
   "codemirror_mode": {
    "name": "ipython",
    "version": 3
   },
   "file_extension": ".py",
   "mimetype": "text/x-python",
   "name": "python",
   "nbconvert_exporter": "python",
   "pygments_lexer": "ipython3",
   "version": "3.8.8"
  },
  "orig_nbformat": 4,
  "vscode": {
   "interpreter": {
    "hash": "a077222d77dfe082b8f1dd562ad70e458ac2ab76993a0b248ab0476e32e9e8dd"
   }
  }
 },
 "nbformat": 4,
 "nbformat_minor": 2
}
