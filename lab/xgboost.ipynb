{
 "cells": [
  {
   "cell_type": "markdown",
   "metadata": {},
   "source": [
    "# XGBoost"
   ]
  },
  {
   "cell_type": "code",
   "execution_count": null,
   "metadata": {},
   "outputs": [],
   "source": [
    "#https://www.youtube.com/watch?v=fG8H-0rb0mY\n",
    "#https://machinelearningmastery.com/xgboost-for-time-series-forecasting/"
   ]
  },
  {
   "cell_type": "code",
   "execution_count": 2,
   "metadata": {},
   "outputs": [
    {
     "name": "stderr",
     "output_type": "stream",
     "text": [
      "c:\\Users\\user\\anaconda3\\lib\\site-packages\\xgboost\\compat.py:36: FutureWarning: pandas.Int64Index is deprecated and will be removed from pandas in a future version. Use pandas.Index with the appropriate dtype instead.\n",
      "  from pandas import MultiIndex, Int64Index\n"
     ]
    }
   ],
   "source": [
    "import pandas as pd\n",
    "import matplotlib.pyplot as plt\n",
    "from matplotlib import rcParams\n",
    "import numpy as np\n",
    "from sklearn.metrics import mean_absolute_error\n",
    "from sklearn.metrics import mean_squared_error\n",
    "from sklearn.metrics import mean_squared_error\n",
    "from sklearn.metrics import mean_absolute_percentage_error\n",
    "\n",
    "import xgboost as xgb"
   ]
  },
  {
   "cell_type": "code",
   "execution_count": 58,
   "metadata": {},
   "outputs": [],
   "source": [
    "plt.style.use('fivethirtyeight') # estilo dos gráficos\n",
    "rcParams['figure.figsize'] = 15, 5 # tamanho das figuras"
   ]
  },
  {
   "cell_type": "code",
   "execution_count": 20,
   "metadata": {},
   "outputs": [
    {
     "data": {
      "text/plain": [
       "'1.5.1'"
      ]
     },
     "execution_count": 20,
     "metadata": {},
     "output_type": "execute_result"
    }
   ],
   "source": [
    "xgb.__version__"
   ]
  },
  {
   "cell_type": "code",
   "execution_count": 4,
   "metadata": {},
   "outputs": [],
   "source": [
    "def load_data():\n",
    "    \"\"\"\n",
    "    Função para ler e transformar os dados já presentes no diretório especificado\n",
    "    \"\"\"\n",
    "    path = \"../data/daily_load.csv\"\n",
    "    df_load = pd.read_csv(path, parse_dates = [\"date\"])\n",
    "    df_load2 = df_load[df_load[\"id_reg\"] == \"S\"]           # região sul\n",
    "    df_load3 = df_load2[df_load2[\"date\"] <= '2022-05-31']  # data de corte\n",
    "    df_load4 = df_load3[[\"date\", \"load_mwmed\"]].set_index(\"date\")\n",
    "    return df_load4\n",
    "\n",
    "def train_test_split(data, n_test):\n",
    "    \"\"\"\n",
    "    Função para partir or dados em treino e teste\n",
    "    \"\"\"\n",
    "    if isinstance(data, pd.DataFrame):\n",
    "        train, test = data.iloc[:-n_test, :], data.iloc[-n_test:, :]\n",
    "    elif isinstance(data, np.ndarray):\n",
    "        train, test = data[:-n_test, :], data[-n_test:, :]\n",
    "    return train, test\n",
    "\n",
    "# https://machinelearningmastery.com/convert-time-series-supervised-learning-problem-python/\n",
    "\n",
    "# transform a time series dataset into a supervised learning dataset\n",
    "def series_to_supervised(data, n_in = 1, n_out = 1, dropnan = True):\n",
    "    \"\"\"\n",
    "    Frame a time series as a supervised learning dataset.\n",
    "    Arguments:\n",
    "        data: Sequence of observations as a list or NumPy array.\n",
    "        n_in: Number of lag observations as input (X).\n",
    "        n_out: Number of observations as output (y).\n",
    "        dropnan: Boolean whether or not to drop rows with NaN values.\n",
    "    Returns:\n",
    "        Pandas DataFrame of series framed for supervised learning.\n",
    "    \"\"\"\n",
    "    n_vars = 1 if type(data) is list else data.shape[1]\n",
    "    df = pd.DataFrame(data)\n",
    "    cols, names = list(), list()\n",
    "    # input sequence (t-n, ... t-1)\n",
    "    for i in range(n_in, 0, -1):\n",
    "        cols.append(df.shift(i))\n",
    "        names += [('var%d(t-%d)' % (j+1, i)) for j in range(n_vars)]\n",
    "    # forecast sequence (t, t+1, ... t+n)\n",
    "    for i in range(0, n_out):\n",
    "        cols.append(df.shift(-i))\n",
    "        if i == 0:\n",
    "            names += [('var%d(t)' % (j+1)) for j in range(n_vars)]\n",
    "        else:\n",
    "            names += [('var%d(t+%d)' % (j+1, i)) for j in range(n_vars)]\n",
    "    # put it all together\n",
    "    agg = pd.concat(cols, axis = 1)\n",
    "    agg.columns = names\n",
    "    # drop rows with NaN values\n",
    "    if dropnan:\n",
    "        agg.dropna(inplace = True)\n",
    "    return agg\n",
    "\n",
    "def xgboost_forecast(train, testX):\n",
    "\t# transform list into array\n",
    "\ttrain = np.asarray(train)\n",
    "\t# split into input and output columns\n",
    "\ttrainX, trainy = train[:, :-1], train[:, -1]\n",
    "\t# fit model\n",
    "\tmodel = xgb.XGBRegressor(objective='reg:squarederror', n_estimators=1000)\n",
    "\tmodel.fit(trainX, trainy)\n",
    "\t# make a one-step prediction\n",
    "\tyhat = model.predict([testX])\n",
    "\treturn yhat[0]\n",
    "\n",
    "# walk-forward validation for univariate data\n",
    "def walk_forward_validation(data, n_test):\n",
    "    predictions = list()\n",
    "    # split dataset\n",
    "    train, test = train_test_split(data, n_test)\n",
    "    # seed history with training dataset\n",
    "    history = [x for x in train]\n",
    "    # step over each time-step in the test set\n",
    "    for i in range(len(test)):\n",
    "        # split test row into input and output columns\n",
    "        testX, testy = test[i, :-1], test[i, -1]\n",
    "        # fit model on history and make a prediction\n",
    "        yhat = xgboost_forecast(history, testX)\n",
    "        # store forecast in list of predictions\n",
    "        predictions.append(yhat)\n",
    "        # add actual observation to history for the next loop\n",
    "        history.append(test[i])\n",
    "        # summarize progress\n",
    "        print('>expected = %.1f, predicted = %.1f' % (testy, yhat))\n",
    "    # estimate prediction error\n",
    "    mae = mean_absolute_error(test[:, -1], predictions)\n",
    "    mape = mean_absolute_percentage_error(test[:, -1], predictions)\n",
    "    rmse = np.sqrt(mean_squared_error(test[:, -1], predictions))    \n",
    "    return mae, mape, rmse, test[:, -1], predictions\n",
    "\n",
    "def get_measures(forecast, test):\n",
    "    \"\"\"\n",
    "    Função para obter medidas de acurária a partir dos dados de projeção e teste\n",
    "    \"\"\"\n",
    "    #forecast.reset_index(drop = True, inplace = True)\n",
    "    #test.reset_index(drop = True, inplace = True)\n",
    "    #errors = [(test.iloc[i] - forecast.iloc[i])**2 for i in range(len(test))]\n",
    "    if isinstance(forecast, pd.Series) and isinstance(test, pd.Series):\n",
    "        errors = [(test.iloc[i] - forecast.iloc[i])**2 for i in range(len(test))]\n",
    "    # else:\n",
    "    #     errors = [(test.iloc[i][0] - forecast.iloc[i])**2 for i in range(len(test))]\n",
    "    mae = mean_absolute_error(test, forecast)\n",
    "    mse = mean_squared_error(test, forecast)\n",
    "    rmse = np.sqrt(mse)\n",
    "    mape = mean_absolute_percentage_error(test, forecast)\n",
    "    # smape\n",
    "    a = np.reshape(test.values, (-1,))\n",
    "    b = np.reshape(forecast.values, (-1,))\n",
    "    smape = np.mean(100*2.0 * np.abs(a - b) / (np.abs(a) + np.abs(b))).item()\n",
    "    # dicionário com as medidas de erro\n",
    "    measures = { \"erro\": sum(errors),\n",
    "                 \"mae\": mae,\n",
    "                 \"mse\": mse,\n",
    "                 \"rmse\": rmse,\n",
    "                 \"mape\": mape,\n",
    "                 \"smape\": smape\n",
    "                }\n",
    "    # arredondamento\n",
    "    # for key, item in measures.items():\n",
    "    #     measures[key] = round(measures[key], 2)\n",
    "    return measures\n"
   ]
  },
  {
   "cell_type": "code",
   "execution_count": 41,
   "metadata": {},
   "outputs": [
    {
     "data": {
      "text/html": [
       "<div>\n",
       "<style scoped>\n",
       "    .dataframe tbody tr th:only-of-type {\n",
       "        vertical-align: middle;\n",
       "    }\n",
       "\n",
       "    .dataframe tbody tr th {\n",
       "        vertical-align: top;\n",
       "    }\n",
       "\n",
       "    .dataframe thead th {\n",
       "        text-align: right;\n",
       "    }\n",
       "</style>\n",
       "<table border=\"1\" class=\"dataframe\">\n",
       "  <thead>\n",
       "    <tr style=\"text-align: right;\">\n",
       "      <th></th>\n",
       "      <th>load_mwmed</th>\n",
       "    </tr>\n",
       "    <tr>\n",
       "      <th>date</th>\n",
       "      <th></th>\n",
       "    </tr>\n",
       "  </thead>\n",
       "  <tbody>\n",
       "    <tr>\n",
       "      <th>2000-01-01</th>\n",
       "      <td>4800.650000</td>\n",
       "    </tr>\n",
       "    <tr>\n",
       "      <th>2000-01-02</th>\n",
       "      <td>4899.800000</td>\n",
       "    </tr>\n",
       "    <tr>\n",
       "      <th>2000-01-03</th>\n",
       "      <td>6261.554167</td>\n",
       "    </tr>\n",
       "    <tr>\n",
       "      <th>2000-01-04</th>\n",
       "      <td>6733.741667</td>\n",
       "    </tr>\n",
       "    <tr>\n",
       "      <th>2000-01-05</th>\n",
       "      <td>6961.170833</td>\n",
       "    </tr>\n",
       "  </tbody>\n",
       "</table>\n",
       "</div>"
      ],
      "text/plain": [
       "             load_mwmed\n",
       "date                   \n",
       "2000-01-01  4800.650000\n",
       "2000-01-02  4899.800000\n",
       "2000-01-03  6261.554167\n",
       "2000-01-04  6733.741667\n",
       "2000-01-05  6961.170833"
      ]
     },
     "execution_count": 41,
     "metadata": {},
     "output_type": "execute_result"
    }
   ],
   "source": [
    "df = load_data()\n",
    "df.head()"
   ]
  },
  {
   "cell_type": "code",
   "execution_count": 42,
   "metadata": {},
   "outputs": [],
   "source": [
    "values = df.values.tolist()"
   ]
  },
  {
   "cell_type": "code",
   "execution_count": 43,
   "metadata": {},
   "outputs": [
    {
     "data": {
      "text/html": [
       "<div>\n",
       "<style scoped>\n",
       "    .dataframe tbody tr th:only-of-type {\n",
       "        vertical-align: middle;\n",
       "    }\n",
       "\n",
       "    .dataframe tbody tr th {\n",
       "        vertical-align: top;\n",
       "    }\n",
       "\n",
       "    .dataframe thead th {\n",
       "        text-align: right;\n",
       "    }\n",
       "</style>\n",
       "<table border=\"1\" class=\"dataframe\">\n",
       "  <thead>\n",
       "    <tr style=\"text-align: right;\">\n",
       "      <th></th>\n",
       "      <th>var1(t-60)</th>\n",
       "      <th>var1(t-59)</th>\n",
       "      <th>var1(t-58)</th>\n",
       "      <th>var1(t-57)</th>\n",
       "      <th>var1(t-56)</th>\n",
       "      <th>var1(t-55)</th>\n",
       "      <th>var1(t-54)</th>\n",
       "      <th>var1(t-53)</th>\n",
       "      <th>var1(t-52)</th>\n",
       "      <th>var1(t-51)</th>\n",
       "      <th>...</th>\n",
       "      <th>var1(t-9)</th>\n",
       "      <th>var1(t-8)</th>\n",
       "      <th>var1(t-7)</th>\n",
       "      <th>var1(t-6)</th>\n",
       "      <th>var1(t-5)</th>\n",
       "      <th>var1(t-4)</th>\n",
       "      <th>var1(t-3)</th>\n",
       "      <th>var1(t-2)</th>\n",
       "      <th>var1(t-1)</th>\n",
       "      <th>var1(t)</th>\n",
       "    </tr>\n",
       "  </thead>\n",
       "  <tbody>\n",
       "    <tr>\n",
       "      <th>60</th>\n",
       "      <td>4800.650000</td>\n",
       "      <td>4899.800000</td>\n",
       "      <td>6261.554167</td>\n",
       "      <td>6733.741667</td>\n",
       "      <td>6961.170833</td>\n",
       "      <td>7110.362500</td>\n",
       "      <td>7105.354167</td>\n",
       "      <td>6307.487500</td>\n",
       "      <td>5523.620833</td>\n",
       "      <td>7111.320833</td>\n",
       "      <td>...</td>\n",
       "      <td>6987.708333</td>\n",
       "      <td>7280.162500</td>\n",
       "      <td>7296.462500</td>\n",
       "      <td>7454.975000</td>\n",
       "      <td>7519.508333</td>\n",
       "      <td>6667.820833</td>\n",
       "      <td>5624.716667</td>\n",
       "      <td>7223.262500</td>\n",
       "      <td>7347.804167</td>\n",
       "      <td>7344.591667</td>\n",
       "    </tr>\n",
       "    <tr>\n",
       "      <th>61</th>\n",
       "      <td>4899.800000</td>\n",
       "      <td>6261.554167</td>\n",
       "      <td>6733.741667</td>\n",
       "      <td>6961.170833</td>\n",
       "      <td>7110.362500</td>\n",
       "      <td>7105.354167</td>\n",
       "      <td>6307.487500</td>\n",
       "      <td>5523.620833</td>\n",
       "      <td>7111.320833</td>\n",
       "      <td>7435.058333</td>\n",
       "      <td>...</td>\n",
       "      <td>7280.162500</td>\n",
       "      <td>7296.462500</td>\n",
       "      <td>7454.975000</td>\n",
       "      <td>7519.508333</td>\n",
       "      <td>6667.820833</td>\n",
       "      <td>5624.716667</td>\n",
       "      <td>7223.262500</td>\n",
       "      <td>7347.804167</td>\n",
       "      <td>7344.591667</td>\n",
       "      <td>7500.862500</td>\n",
       "    </tr>\n",
       "    <tr>\n",
       "      <th>62</th>\n",
       "      <td>6261.554167</td>\n",
       "      <td>6733.741667</td>\n",
       "      <td>6961.170833</td>\n",
       "      <td>7110.362500</td>\n",
       "      <td>7105.354167</td>\n",
       "      <td>6307.487500</td>\n",
       "      <td>5523.620833</td>\n",
       "      <td>7111.320833</td>\n",
       "      <td>7435.058333</td>\n",
       "      <td>7425.491667</td>\n",
       "      <td>...</td>\n",
       "      <td>7296.462500</td>\n",
       "      <td>7454.975000</td>\n",
       "      <td>7519.508333</td>\n",
       "      <td>6667.820833</td>\n",
       "      <td>5624.716667</td>\n",
       "      <td>7223.262500</td>\n",
       "      <td>7347.804167</td>\n",
       "      <td>7344.591667</td>\n",
       "      <td>7500.862500</td>\n",
       "      <td>7428.862500</td>\n",
       "    </tr>\n",
       "    <tr>\n",
       "      <th>63</th>\n",
       "      <td>6733.741667</td>\n",
       "      <td>6961.170833</td>\n",
       "      <td>7110.362500</td>\n",
       "      <td>7105.354167</td>\n",
       "      <td>6307.487500</td>\n",
       "      <td>5523.620833</td>\n",
       "      <td>7111.320833</td>\n",
       "      <td>7435.058333</td>\n",
       "      <td>7425.491667</td>\n",
       "      <td>7505.575000</td>\n",
       "      <td>...</td>\n",
       "      <td>7454.975000</td>\n",
       "      <td>7519.508333</td>\n",
       "      <td>6667.820833</td>\n",
       "      <td>5624.716667</td>\n",
       "      <td>7223.262500</td>\n",
       "      <td>7347.804167</td>\n",
       "      <td>7344.591667</td>\n",
       "      <td>7500.862500</td>\n",
       "      <td>7428.862500</td>\n",
       "      <td>6430.975000</td>\n",
       "    </tr>\n",
       "    <tr>\n",
       "      <th>64</th>\n",
       "      <td>6961.170833</td>\n",
       "      <td>7110.362500</td>\n",
       "      <td>7105.354167</td>\n",
       "      <td>6307.487500</td>\n",
       "      <td>5523.620833</td>\n",
       "      <td>7111.320833</td>\n",
       "      <td>7435.058333</td>\n",
       "      <td>7425.491667</td>\n",
       "      <td>7505.575000</td>\n",
       "      <td>7532.275000</td>\n",
       "      <td>...</td>\n",
       "      <td>7519.508333</td>\n",
       "      <td>6667.820833</td>\n",
       "      <td>5624.716667</td>\n",
       "      <td>7223.262500</td>\n",
       "      <td>7347.804167</td>\n",
       "      <td>7344.591667</td>\n",
       "      <td>7500.862500</td>\n",
       "      <td>7428.862500</td>\n",
       "      <td>6430.975000</td>\n",
       "      <td>5449.625000</td>\n",
       "    </tr>\n",
       "  </tbody>\n",
       "</table>\n",
       "<p>5 rows × 61 columns</p>\n",
       "</div>"
      ],
      "text/plain": [
       "     var1(t-60)   var1(t-59)   var1(t-58)   var1(t-57)   var1(t-56)  \\\n",
       "60  4800.650000  4899.800000  6261.554167  6733.741667  6961.170833   \n",
       "61  4899.800000  6261.554167  6733.741667  6961.170833  7110.362500   \n",
       "62  6261.554167  6733.741667  6961.170833  7110.362500  7105.354167   \n",
       "63  6733.741667  6961.170833  7110.362500  7105.354167  6307.487500   \n",
       "64  6961.170833  7110.362500  7105.354167  6307.487500  5523.620833   \n",
       "\n",
       "     var1(t-55)   var1(t-54)   var1(t-53)   var1(t-52)   var1(t-51)  ...  \\\n",
       "60  7110.362500  7105.354167  6307.487500  5523.620833  7111.320833  ...   \n",
       "61  7105.354167  6307.487500  5523.620833  7111.320833  7435.058333  ...   \n",
       "62  6307.487500  5523.620833  7111.320833  7435.058333  7425.491667  ...   \n",
       "63  5523.620833  7111.320833  7435.058333  7425.491667  7505.575000  ...   \n",
       "64  7111.320833  7435.058333  7425.491667  7505.575000  7532.275000  ...   \n",
       "\n",
       "      var1(t-9)    var1(t-8)    var1(t-7)    var1(t-6)    var1(t-5)  \\\n",
       "60  6987.708333  7280.162500  7296.462500  7454.975000  7519.508333   \n",
       "61  7280.162500  7296.462500  7454.975000  7519.508333  6667.820833   \n",
       "62  7296.462500  7454.975000  7519.508333  6667.820833  5624.716667   \n",
       "63  7454.975000  7519.508333  6667.820833  5624.716667  7223.262500   \n",
       "64  7519.508333  6667.820833  5624.716667  7223.262500  7347.804167   \n",
       "\n",
       "      var1(t-4)    var1(t-3)    var1(t-2)    var1(t-1)      var1(t)  \n",
       "60  6667.820833  5624.716667  7223.262500  7347.804167  7344.591667  \n",
       "61  5624.716667  7223.262500  7347.804167  7344.591667  7500.862500  \n",
       "62  7223.262500  7347.804167  7344.591667  7500.862500  7428.862500  \n",
       "63  7347.804167  7344.591667  7500.862500  7428.862500  6430.975000  \n",
       "64  7344.591667  7500.862500  7428.862500  6430.975000  5449.625000  \n",
       "\n",
       "[5 rows x 61 columns]"
      ]
     },
     "execution_count": 43,
     "metadata": {},
     "output_type": "execute_result"
    }
   ],
   "source": [
    "# Define the number of lag observations as input (X)\n",
    "lag = 60 #ou 60\n",
    "\n",
    "data = series_to_supervised(values, n_in = lag)\n",
    "data.head(5)"
   ]
  },
  {
   "cell_type": "code",
   "execution_count": 44,
   "metadata": {},
   "outputs": [
    {
     "data": {
      "text/plain": [
       "(7815, 61)"
      ]
     },
     "execution_count": 44,
     "metadata": {},
     "output_type": "execute_result"
    }
   ],
   "source": [
    "data.shape"
   ]
  },
  {
   "cell_type": "code",
   "execution_count": 49,
   "metadata": {},
   "outputs": [
    {
     "name": "stdout",
     "output_type": "stream",
     "text": [
      ">expected = 8794.2, predicted = 8924.0\n",
      ">expected = 11643.8, predicted = 11856.0\n",
      ">expected = 11941.7, predicted = 11673.1\n",
      ">expected = 11643.9, predicted = 12236.1\n",
      ">expected = 11442.4, predicted = 10378.4\n",
      ">expected = 11156.5, predicted = 11427.9\n",
      ">expected = 9333.9, predicted = 9379.7\n",
      ">expected = 7742.4, predicted = 8373.2\n",
      ">expected = 10808.5, predicted = 10247.5\n",
      ">expected = 11654.6, predicted = 11193.3\n",
      ">expected = 11608.5, predicted = 11737.1\n",
      ">expected = 11361.0, predicted = 11043.9\n",
      ">expected = 11305.7, predicted = 10591.5\n",
      ">expected = 10060.5, predicted = 9573.6\n",
      ">expected = 8994.9, predicted = 8134.4\n",
      ">expected = 11424.1, predicted = 12022.7\n",
      ">expected = 11964.9, predicted = 11859.4\n",
      ">expected = 12269.1, predicted = 11805.8\n",
      ">expected = 12021.4, predicted = 11815.9\n",
      ">expected = 11802.5, predicted = 11296.8\n",
      ">expected = 10257.0, predicted = 9862.8\n",
      ">expected = 8938.6, predicted = 8825.1\n",
      ">expected = 11713.1, predicted = 11522.4\n",
      ">expected = 12054.2, predicted = 12157.6\n",
      ">expected = 12186.7, predicted = 12099.8\n",
      ">expected = 12482.5, predicted = 11334.8\n",
      ">expected = 12520.8, predicted = 12403.0\n",
      ">expected = 10525.5, predicted = 10557.9\n",
      ">expected = 9074.2, predicted = 8969.5\n",
      ">expected = 11648.7, predicted = 12182.3\n",
      ">expected = 12162.8, predicted = 11818.9\n"
     ]
    }
   ],
   "source": [
    "mae, mape, rmse, y, yhat = walk_forward_validation(data.values, 31)\n"
   ]
  },
  {
   "cell_type": "code",
   "execution_count": 59,
   "metadata": {},
   "outputs": [
    {
     "data": {
      "image/png": "[encoded data removed]",
      "text/plain": [
       "<Figure size 1080x360 with 1 Axes>"
      ]
     },
     "metadata": {},
     "output_type": "display_data"
    }
   ],
   "source": [
    "# plot expected vs predicted\n",
    "plt.plot(y, label = 'Expected')\n",
    "plt.plot(yhat, label = 'Predicted', color = 'orange')\n",
    "plt.legend()\n",
    "plt.show()"
   ]
  },
  {
   "cell_type": "code",
   "execution_count": 80,
   "metadata": {},
   "outputs": [
    {
     "data": {
      "text/html": [
       "<div>\n",
       "<style scoped>\n",
       "    .dataframe tbody tr th:only-of-type {\n",
       "        vertical-align: middle;\n",
       "    }\n",
       "\n",
       "    .dataframe tbody tr th {\n",
       "        vertical-align: top;\n",
       "    }\n",
       "\n",
       "    .dataframe thead th {\n",
       "        text-align: right;\n",
       "    }\n",
       "</style>\n",
       "<table border=\"1\" class=\"dataframe\">\n",
       "  <thead>\n",
       "    <tr style=\"text-align: right;\">\n",
       "      <th></th>\n",
       "      <th>erro</th>\n",
       "      <th>mae</th>\n",
       "      <th>mse</th>\n",
       "      <th>rmse</th>\n",
       "      <th>mape</th>\n",
       "      <th>smape</th>\n",
       "    </tr>\n",
       "  </thead>\n",
       "  <tbody>\n",
       "    <tr>\n",
       "      <th>0</th>\n",
       "      <td>7.073865e+06</td>\n",
       "      <td>380.379067</td>\n",
       "      <td>228189.191854</td>\n",
       "      <td>477.691524</td>\n",
       "      <td>0.034833</td>\n",
       "      <td>3.534049</td>\n",
       "    </tr>\n",
       "  </tbody>\n",
       "</table>\n",
       "</div>"
      ],
      "text/plain": [
       "           erro         mae            mse        rmse      mape     smape\n",
       "0  7.073865e+06  380.379067  228189.191854  477.691524  0.034833  3.534049"
      ]
     },
     "execution_count": 80,
     "metadata": {},
     "output_type": "execute_result"
    }
   ],
   "source": [
    "measures = get_measures(pd.Series(yhat), pd.Series(y))\n",
    "df_measures = pd.DataFrame([measures])\n",
    "df_measures"
   ]
  },
  {
   "cell_type": "markdown",
   "metadata": {},
   "source": [
    "# FORECAST"
   ]
  },
  {
   "cell_type": "markdown",
   "metadata": {},
   "source": [
    "### SKTIME - SEQUENTIAL"
   ]
  },
  {
   "cell_type": "code",
   "execution_count": 9,
   "metadata": {},
   "outputs": [
    {
     "data": {
      "text/html": [
       "<div>\n",
       "<style scoped>\n",
       "    .dataframe tbody tr th:only-of-type {\n",
       "        vertical-align: middle;\n",
       "    }\n",
       "\n",
       "    .dataframe tbody tr th {\n",
       "        vertical-align: top;\n",
       "    }\n",
       "\n",
       "    .dataframe thead th {\n",
       "        text-align: right;\n",
       "    }\n",
       "</style>\n",
       "<table border=\"1\" class=\"dataframe\">\n",
       "  <thead>\n",
       "    <tr style=\"text-align: right;\">\n",
       "      <th></th>\n",
       "      <th>load_mwmed</th>\n",
       "    </tr>\n",
       "    <tr>\n",
       "      <th>date</th>\n",
       "      <th></th>\n",
       "    </tr>\n",
       "  </thead>\n",
       "  <tbody>\n",
       "    <tr>\n",
       "      <th>2022-05-12</th>\n",
       "      <td>11361.001881</td>\n",
       "    </tr>\n",
       "    <tr>\n",
       "      <th>2022-05-13</th>\n",
       "      <td>11305.707062</td>\n",
       "    </tr>\n",
       "    <tr>\n",
       "      <th>2022-05-14</th>\n",
       "      <td>10060.549787</td>\n",
       "    </tr>\n",
       "    <tr>\n",
       "      <th>2022-05-15</th>\n",
       "      <td>8994.856748</td>\n",
       "    </tr>\n",
       "    <tr>\n",
       "      <th>2022-05-16</th>\n",
       "      <td>11424.087542</td>\n",
       "    </tr>\n",
       "  </tbody>\n",
       "</table>\n",
       "</div>"
      ],
      "text/plain": [
       "              load_mwmed\n",
       "date                    \n",
       "2022-05-12  11361.001881\n",
       "2022-05-13  11305.707062\n",
       "2022-05-14  10060.549787\n",
       "2022-05-15   8994.856748\n",
       "2022-05-16  11424.087542"
      ]
     },
     "execution_count": 9,
     "metadata": {},
     "output_type": "execute_result"
    }
   ],
   "source": [
    "from sktime.forecasting.compose import make_reduction\n",
    "df = load_data()\n",
    "df.interpolate(method = \"linear\", inplace = True)\n",
    "df_sk = df.asfreq('D')\n",
    "n_test = 15\n",
    "X, y = train_test_split(df_sk, n_test)\n",
    "X.tail()"
   ]
  },
  {
   "cell_type": "code",
   "execution_count": 10,
   "metadata": {},
   "outputs": [
    {
     "name": "stderr",
     "output_type": "stream",
     "text": [
      "c:\\Users\\user\\anaconda3\\lib\\site-packages\\sktime\\utils\\datetime.py:108: FutureWarning: Timestamp.freq is deprecated and will be removed in a future version.\n",
      "  if not hasattr(x, \"freq\") or x.freq is None:\n",
      "c:\\Users\\user\\anaconda3\\lib\\site-packages\\sktime\\utils\\datetime.py:110: FutureWarning: Timestamp.freq is deprecated and will be removed in a future version.\n",
      "  by *= x.freq\n",
      "c:\\Users\\user\\anaconda3\\lib\\site-packages\\sktime\\forecasting\\base\\_fh.py:565: FutureWarning: Timestamp.freqstr is deprecated and will be removed in a future version.\n",
      "  cutoff = _coerce_to_period(cutoff, freq=cutoff.freqstr)\n"
     ]
    }
   ],
   "source": [
    "regressor = xgb.XGBRegressor(objective='reg:squarederror', n_estimators=1000)\n",
    "forecaster = make_reduction(regressor, window_length=60, strategy=\"recursive\")\n",
    "forecaster.fit(X)   # fit \n",
    "predictions = forecaster.predict(fh = [x for x in range(1,n_test + 1)]) "
   ]
  },
  {
   "cell_type": "code",
   "execution_count": 11,
   "metadata": {},
   "outputs": [
    {
     "data": {
      "text/html": [
       "<div>\n",
       "<style scoped>\n",
       "    .dataframe tbody tr th:only-of-type {\n",
       "        vertical-align: middle;\n",
       "    }\n",
       "\n",
       "    .dataframe tbody tr th {\n",
       "        vertical-align: top;\n",
       "    }\n",
       "\n",
       "    .dataframe thead th {\n",
       "        text-align: right;\n",
       "    }\n",
       "</style>\n",
       "<table border=\"1\" class=\"dataframe\">\n",
       "  <thead>\n",
       "    <tr style=\"text-align: right;\">\n",
       "      <th></th>\n",
       "      <th>erro</th>\n",
       "      <th>mae</th>\n",
       "      <th>mse</th>\n",
       "      <th>rmse</th>\n",
       "      <th>mape</th>\n",
       "      <th>smape</th>\n",
       "    </tr>\n",
       "  </thead>\n",
       "  <tbody>\n",
       "    <tr>\n",
       "      <th>0</th>\n",
       "      <td>7.115838e+06</td>\n",
       "      <td>621.977032</td>\n",
       "      <td>474389.198823</td>\n",
       "      <td>688.759173</td>\n",
       "      <td>0.054896</td>\n",
       "      <td>5.68278</td>\n",
       "    </tr>\n",
       "  </tbody>\n",
       "</table>\n",
       "</div>"
      ],
      "text/plain": [
       "           erro         mae            mse        rmse      mape    smape\n",
       "0  7.115838e+06  621.977032  474389.198823  688.759173  0.054896  5.68278"
      ]
     },
     "execution_count": 11,
     "metadata": {},
     "output_type": "execute_result"
    }
   ],
   "source": [
    "measures = get_measures(predictions.load_mwmed, y.load_mwmed)\n",
    "df_measures = pd.DataFrame([measures])\n",
    "df_measures"
   ]
  },
  {
   "cell_type": "markdown",
   "metadata": {},
   "source": [
    "### DIRECT"
   ]
  },
  {
   "cell_type": "code",
   "execution_count": 35,
   "metadata": {},
   "outputs": [],
   "source": [
    "def multi_step_forecast(data, lag, n):\n",
    "    n_test = outs = n\n",
    "    data = series_to_supervised(values, n_in = lag, n_out = outs, dropnan=False)\n",
    "    train, test = train_test_split(data, n_test)\n",
    "    train.dropna(inplace = True)\n",
    "    response_vars = data.columns[-(outs):]\n",
    "    predictions = list()\n",
    "    for h, response in enumerate(response_vars):\n",
    "        cols = [x for x in data.columns[:lag]]\n",
    "        cols.append(response)\n",
    "        data_ = train[cols]\n",
    "        nrows = data_.shape[0]\n",
    "        data_ = data_.iloc[:nrows-h, :] \n",
    "        data_X, data_y = data_.iloc[:, :-1].to_numpy(), data_.iloc[:, -1].to_numpy() # para XGBoost não dar erro, precisa transformar em nparray\n",
    "        model = xgb.XGBRegressor(objective='reg:squarederror', n_estimators=1000)\n",
    "        model.fit(data_X, data_y)\n",
    "        testX, testy = test.reset_index(drop=True).loc[0, :\"var1(t-1)\"], test.reset_index(drop=True).loc[0, response]\n",
    "        pred = model.predict([testX])[0]\n",
    "        print(f\"Predicting {response}\\n    > expected: {testy}, predicted: {pred}\")\n",
    "        predictions.append(pred)\n",
    "    measures = get_measures(pd.Series(predictions), test[\"var1(t)\"])\n",
    "    df_measures = pd.DataFrame([measures])\n",
    "    return predictions, df_measures, test\n",
    "\n",
    "df = load_data()\n",
    "df.interpolate(method = \"linear\", inplace = True)\n",
    "values = df.values.tolist()"
   ]
  },
  {
   "cell_type": "code",
   "execution_count": 36,
   "metadata": {},
   "outputs": [
    {
     "name": "stderr",
     "output_type": "stream",
     "text": [
      "C:\\Users\\user\\AppData\\Local\\Temp\\ipykernel_80\\514937903.py:5: SettingWithCopyWarning: \n",
      "A value is trying to be set on a copy of a slice from a DataFrame\n",
      "\n",
      "See the caveats in the documentation: https://pandas.pydata.org/pandas-docs/stable/user_guide/indexing.html#returning-a-view-versus-a-copy\n",
      "  train.dropna(inplace = True)\n"
     ]
    },
    {
     "name": "stdout",
     "output_type": "stream",
     "text": [
      "Predicting var1(t)\n",
      "    > expected: 11964.909375, predicted: 11950.3125\n",
      "Predicting var1(t+1)\n",
      "    > expected: 12269.051375, predicted: 11380.8056640625\n",
      "Predicting var1(t+2)\n",
      "    > expected: 12021.41545833, predicted: 11531.4697265625\n",
      "Predicting var1(t+3)\n",
      "    > expected: 11802.52645833, predicted: 11997.3369140625\n",
      "Predicting var1(t+4)\n",
      "    > expected: 10256.970375, predicted: 10054.9375\n",
      "Predicting var1(t+5)\n",
      "    > expected: 8938.579125, predicted: 8180.8134765625\n",
      "Predicting var1(t+6)\n",
      "    > expected: 11713.10433333, predicted: 10775.37890625\n",
      "Predicting var1(t+7)\n",
      "    > expected: 12054.19504167, predicted: 11006.8037109375\n",
      "Predicting var1(t+8)\n",
      "    > expected: 12186.721375, predicted: 11283.6005859375\n",
      "Predicting var1(t+9)\n",
      "    > expected: 12482.52370833, predicted: 11736.7841796875\n",
      "Predicting var1(t+10)\n",
      "    > expected: 12520.80383333, predicted: 10637.490234375\n",
      "Predicting var1(t+11)\n",
      "    > expected: 10525.490875, predicted: 10026.642578125\n",
      "Predicting var1(t+12)\n",
      "    > expected: 9074.21125, predicted: 8674.0908203125\n",
      "Predicting var1(t+13)\n",
      "    > expected: 11648.70958333, predicted: 11004.1845703125\n",
      "Predicting var1(t+14)\n",
      "    > expected: 12162.75679167, predicted: 11531.3564453125\n",
      "           erro         mae            mse        rmse     mape     smape\n",
      "0  9.800225e+06  682.638804  653348.311325  808.299642  0.05902  6.146571\n"
     ]
    }
   ],
   "source": [
    "lags = 60\n",
    "h = 15\n",
    "pred, measures, test = multi_step_forecast(values, lags, h)\n",
    "print(measures)"
   ]
  }
 ],
 "metadata": {
  "interpreter": {
   "hash": "a077222d77dfe082b8f1dd562ad70e458ac2ab76993a0b248ab0476e32e9e8dd"
  },
  "kernelspec": {
   "display_name": "Python 3.8.8 ('base')",
   "language": "python",
   "name": "python3"
  },
  "language_info": {
   "codemirror_mode": {
    "name": "ipython",
    "version": 3
   },
   "file_extension": ".py",
   "mimetype": "text/x-python",
   "name": "python",
   "nbconvert_exporter": "python",
   "pygments_lexer": "ipython3",
   "version": "3.8.8"
  },
  "orig_nbformat": 4,
  "vscode": {
   "interpreter": {
    "hash": "a077222d77dfe082b8f1dd562ad70e458ac2ab76993a0b248ab0476e32e9e8dd"
   }
  }
 },
 "nbformat": 4,
 "nbformat_minor": 2
}
