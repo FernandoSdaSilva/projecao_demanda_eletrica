{
 "cells": [
  {
   "cell_type": "markdown",
   "metadata": {},
   "source": [
    "# Funções"
   ]
  },
  {
   "cell_type": "code",
   "execution_count": 8,
   "metadata": {},
   "outputs": [],
   "source": [
    "import pandas as pd\n",
    "import matplotlib.pyplot as plt\n",
    "import numpy as np\n",
    "from sklearn.metrics import mean_absolute_error\n",
    "from sklearn.metrics import mean_squared_error\n",
    "from sklearn.metrics import mean_squared_error\n",
    "from sklearn.metrics import mean_absolute_percentage_error\n",
    "from statsmodels.tsa.holtwinters import SimpleExpSmoothing, ExponentialSmoothing, Holt\n",
    "from collections import defaultdict\n",
    "import json\n",
    "import warnings # retirar avisos\n",
    "warnings.filterwarnings('ignore')"
   ]
  },
  {
   "cell_type": "code",
   "execution_count": 4,
   "metadata": {},
   "outputs": [],
   "source": [
    "def load_data():\n",
    "    \"\"\"\n",
    "    Função para ler e transformar os dados já presentes no diretório especificado\n",
    "    \"\"\"\n",
    "    path = \"../data/daily_load.csv\"\n",
    "    df_load = pd.read_csv(path, parse_dates = [\"date\"])\n",
    "    df_load2 = df_load[df_load[\"id_reg\"] == \"S\"]           # região sul\n",
    "    df_load3 = df_load2[df_load2[\"date\"] <= '2022-05-31']  # data de corte\n",
    "    df_load4 = df_load3[[\"date\", \"load_mwmed\"]].set_index(\"date\")\n",
    "    return df_load4"
   ]
  },
  {
   "cell_type": "code",
   "execution_count": 5,
   "metadata": {},
   "outputs": [],
   "source": [
    "def train_test_split(data, n_test):\n",
    "    \"\"\"\n",
    "    Função para partir or dados em treino e teste\n",
    "    \"\"\"\n",
    "    if isinstance(data, pd.DataFrame):\n",
    "        train, test = data.iloc[:-n_test, :], data.iloc[-n_test:, :]\n",
    "    elif isinstance(data, np.ndarray):\n",
    "        train, test = data[:-n_test, :], data[-n_test:, :]\n",
    "    return train, test"
   ]
  },
  {
   "cell_type": "code",
   "execution_count": 6,
   "metadata": {},
   "outputs": [],
   "source": [
    "def create_future(start, t, cal_vars = False):\n",
    "    \"\"\" Função para criar DataFrame de datas (dias) seguintes a T, assim como as variáveis de calendário se cal_vars = True.\n",
    "       start: T + 1\n",
    "       t: períodos à frente \"\"\"\n",
    "    dates = pd.date_range(start, freq = 'd', periods = t)\n",
    "    df = pd.DataFrame(dates, columns = ['t'])\n",
    "    if cal_vars == True:\n",
    "        df = create_features(df, 't')\n",
    "    elif cal_vars == False:\n",
    "        pass\n",
    "    return df"
   ]
  },
  {
   "cell_type": "code",
   "execution_count": 7,
   "metadata": {},
   "outputs": [],
   "source": [
    "def get_measures(forecast, test):\n",
    "    \"\"\"\n",
    "    Função para obter medidas de acurária a partir dos dados de projeção e teste\n",
    "    \"\"\"\n",
    "    forecast.reset_index(drop = True, inplace = True)\n",
    "    test.reset_index(drop = True, inplace = True)\n",
    "    if isinstance(forecast, pd.Series) and isinstance(test, pd.Series):\n",
    "        errors = [(test.iloc[i] - forecast.iloc[i])**2 for i in range(len(test))]\n",
    "    else:\n",
    "        errors = [(test.iloc[i][0] - forecast.iloc[i])**2 for i in range(len(test))]\n",
    "    mae = mean_absolute_error(test, forecast)\n",
    "    mse = mean_squared_error(test, forecast)\n",
    "    rmse = np.sqrt(mse)\n",
    "    mape = mean_absolute_percentage_error(test, forecast)\n",
    "    # smape\n",
    "    a = np.reshape(test.values, (-1,))\n",
    "    b = np.reshape(forecast.values, (-1,))\n",
    "    smape = np.mean(100*2.0 * np.abs(a - b) / (np.abs(a) + np.abs(b))).item()\n",
    "    # dicionário com as medidas de erro\n",
    "    measures = { \"erro\": sum(errors),\n",
    "                 \"mae\": mae,\n",
    "                 \"mse\": mse,\n",
    "                 \"rmse\": rmse,\n",
    "                 \"mape\": mape,\n",
    "                 \"smape\": smape\n",
    "                }\n",
    "    # arredondamento\n",
    "    # for key, item in measures.items():\n",
    "    #     measures[key] = round(measures[key], 2)\n",
    "    return measures"
   ]
  },
  {
   "cell_type": "code",
   "execution_count": 13,
   "metadata": {},
   "outputs": [
    {
     "data": {
      "text/html": [
       "<div>\n",
       "<style scoped>\n",
       "    .dataframe tbody tr th:only-of-type {\n",
       "        vertical-align: middle;\n",
       "    }\n",
       "\n",
       "    .dataframe tbody tr th {\n",
       "        vertical-align: top;\n",
       "    }\n",
       "\n",
       "    .dataframe thead th {\n",
       "        text-align: right;\n",
       "    }\n",
       "</style>\n",
       "<table border=\"1\" class=\"dataframe\">\n",
       "  <thead>\n",
       "    <tr style=\"text-align: right;\">\n",
       "      <th></th>\n",
       "      <th>load_mwmed</th>\n",
       "    </tr>\n",
       "    <tr>\n",
       "      <th>date</th>\n",
       "      <th></th>\n",
       "    </tr>\n",
       "  </thead>\n",
       "  <tbody>\n",
       "    <tr>\n",
       "      <th>2000-01-01</th>\n",
       "      <td>4800.650000</td>\n",
       "    </tr>\n",
       "    <tr>\n",
       "      <th>2000-01-02</th>\n",
       "      <td>4899.800000</td>\n",
       "    </tr>\n",
       "    <tr>\n",
       "      <th>2000-01-03</th>\n",
       "      <td>6261.554167</td>\n",
       "    </tr>\n",
       "    <tr>\n",
       "      <th>2000-01-04</th>\n",
       "      <td>6733.741667</td>\n",
       "    </tr>\n",
       "    <tr>\n",
       "      <th>2000-01-05</th>\n",
       "      <td>6961.170833</td>\n",
       "    </tr>\n",
       "    <tr>\n",
       "      <th>...</th>\n",
       "      <td>...</td>\n",
       "    </tr>\n",
       "    <tr>\n",
       "      <th>2022-05-27</th>\n",
       "      <td>12520.803833</td>\n",
       "    </tr>\n",
       "    <tr>\n",
       "      <th>2022-05-28</th>\n",
       "      <td>10525.490875</td>\n",
       "    </tr>\n",
       "    <tr>\n",
       "      <th>2022-05-29</th>\n",
       "      <td>9074.211250</td>\n",
       "    </tr>\n",
       "    <tr>\n",
       "      <th>2022-05-30</th>\n",
       "      <td>11648.709583</td>\n",
       "    </tr>\n",
       "    <tr>\n",
       "      <th>2022-05-31</th>\n",
       "      <td>12162.756792</td>\n",
       "    </tr>\n",
       "  </tbody>\n",
       "</table>\n",
       "<p>8188 rows × 1 columns</p>\n",
       "</div>"
      ],
      "text/plain": [
       "              load_mwmed\n",
       "date                    \n",
       "2000-01-01   4800.650000\n",
       "2000-01-02   4899.800000\n",
       "2000-01-03   6261.554167\n",
       "2000-01-04   6733.741667\n",
       "2000-01-05   6961.170833\n",
       "...                  ...\n",
       "2022-05-27  12520.803833\n",
       "2022-05-28  10525.490875\n",
       "2022-05-29   9074.211250\n",
       "2022-05-30  11648.709583\n",
       "2022-05-31  12162.756792\n",
       "\n",
       "[8188 rows x 1 columns]"
      ]
     },
     "execution_count": 13,
     "metadata": {},
     "output_type": "execute_result"
    }
   ],
   "source": [
    "df = load_data()\n",
    "df.load_mwmed = df.load_mwmed.interpolate(method=\"linear\")\n",
    "df"
   ]
  },
  {
   "cell_type": "code",
   "execution_count": 15,
   "metadata": {},
   "outputs": [
    {
     "name": "stdout",
     "output_type": "stream",
     "text": [
      "forecasting fold 15...\n",
      "forecasting fold 14...\n",
      "forecasting fold 13...\n",
      "forecasting fold 12...\n",
      "forecasting fold 11...\n",
      "forecasting fold 10...\n",
      "forecasting fold 9...\n",
      "forecasting fold 8...\n",
      "forecasting fold 7...\n",
      "forecasting fold 6...\n",
      "forecasting fold 5...\n",
      "forecasting fold 4...\n",
      "forecasting fold 3...\n",
      "forecasting fold 2...\n",
      "forecasting fold 1...\n"
     ]
    }
   ],
   "source": [
    "folds = 15 #partições\n",
    "horz = n_test = 15 #horizonte de predição\n",
    "rows = df.shape[0]\n",
    "out = defaultdict(dict)\n",
    "df_base = pd.DataFrame()\n",
    "for fold in range(folds,0,-1):\n",
    "    print(f\"forecasting fold {fold}...\")\n",
    "    #slide = rows-(fold*horz)#-1\n",
    "    slide = rows-((fold-1)*horz)\n",
    "    df_cv = df.iloc[:slide]\n",
    "    n_test = 15\n",
    "    train, test = train_test_split(df_cv, n_test)\n",
    "    fit1 = ExponentialSmoothing(train ,seasonal_periods=7,trend='add', seasonal='add').fit() # seasonal='mul' é melhor\n",
    "    y_hat = fit1.forecast(n_test)\n",
    "    out[f\"cv_{fold}\"][\"pred\"] = y_hat\n",
    "    out[f\"cv_{fold}\"][\"test\"] = test[\"load_mwmed\"]\n",
    "d = dict(out)"
   ]
  },
  {
   "cell_type": "code",
   "execution_count": 16,
   "metadata": {},
   "outputs": [
    {
     "name": "stdout",
     "output_type": "stream",
     "text": [
      "{'erro': 21500974.103465207, 'mae': 1007.112957996408, 'mse': 1433398.273564347, 'rmse': 1197.2461207138435, 'mape': 0.08710045110726373, 'smape': 9.276606605523007}\n",
      "{'erro': 65607156.63467409, 'mae': 2027.8119050569278, 'mse': 4373810.442311605, 'rmse': 2091.3656883270332, 'mape': 0.1623410931838122, 'smape': 17.75897324645499}\n",
      "{'erro': 2113956.1269205348, 'mae': 321.1293585323166, 'mse': 140930.408461369, 'rmse': 375.4069904268819, 'mape': 0.025752828154137066, 'smape': 2.549377712186443}\n",
      "{'erro': 5564412.852183415, 'mae': 513.6771898258795, 'mse': 370960.85681222763, 'rmse': 609.0655603563771, 'mape': 0.038400228548430726, 'smape': 3.879141634554821}\n",
      "{'erro': 91140472.99535382, 'mae': 2097.52863290451, 'mse': 6076031.533023587, 'rmse': 2464.9607568932183, 'mape': 0.18849471134540816, 'smape': 16.58882437101228}\n",
      "{'erro': 128336371.05590637, 'mae': 2772.351305732098, 'mse': 8555758.070393758, 'rmse': 2925.022746987407, 'mape': 0.21127570077913524, 'smape': 23.909686116630848}\n",
      "{'erro': 29667618.547969658, 'mae': 1159.4844140974872, 'mse': 1977841.2365313105, 'rmse': 1406.3574355516134, 'mape': 0.08868819736174255, 'smape': 8.42896376795083}\n",
      "{'erro': 20145612.236868426, 'mae': 1006.5966692834173, 'mse': 1343040.8157912286, 'rmse': 1158.896378366603, 'mape': 0.07247146822467537, 'smape': 7.5999818188977715}\n",
      "{'erro': 3789431.0140960943, 'mae': 413.89003216068363, 'mse': 252628.73427307294, 'rmse': 502.62186012257064, 'mape': 0.029577349819112298, 'smape': 2.975932737268225}\n",
      "{'erro': 13273639.532917466, 'mae': 869.582130786185, 'mse': 884909.3021944978, 'rmse': 940.6961795364632, 'mape': 0.06862614289946092, 'smape': 6.7510359585158515}\n",
      "{'erro': 7708846.9988081325, 'mae': 608.367380119716, 'mse': 513923.1332538755, 'rmse': 716.8843234817424, 'mape': 0.05396544465839825, 'smape': 5.275069015699202}\n",
      "{'erro': 13042216.933655072, 'mae': 707.8909933818401, 'mse': 869481.1289103382, 'rmse': 932.4597197253821, 'mape': 0.07045438040101651, 'smape': 6.8536130692641795}\n",
      "{'erro': 103207384.8803734, 'mae': 2484.798478778461, 'mse': 6880492.325358227, 'rmse': 2623.0692566835187, 'mape': 0.22382164364488352, 'smape': 25.55314406304434}\n",
      "{'erro': 4497742.447353583, 'mae': 471.49922473804025, 'mse': 299849.4964902389, 'rmse': 547.58514999061, 'mape': 0.04591486400558642, 'smape': 4.444762230589603}\n",
      "{'erro': 4428673.220029492, 'mae': 459.3950684821278, 'mse': 295244.88133529946, 'rmse': 543.3644093380606, 'mape': 0.04082728835344551, 'smape': 4.202007335346176}\n"
     ]
    }
   ],
   "source": [
    "mapes = []\n",
    "for x in d:\n",
    "    meas = get_measures(pd.Series(d[x][\"pred\"]),pd.Series(d[x][\"test\"]))\n",
    "    print(meas)\n",
    "    mapes.append(meas[\"mape\"])"
   ]
  },
  {
   "cell_type": "code",
   "execution_count": 17,
   "metadata": {},
   "outputs": [
    {
     "data": {
      "text/plain": [
       "0.09384745283243388"
      ]
     },
     "execution_count": 17,
     "metadata": {},
     "output_type": "execute_result"
    }
   ],
   "source": [
    "np.mean(mapes)"
   ]
  },
  {
   "cell_type": "code",
   "execution_count": 18,
   "metadata": {},
   "outputs": [
    {
     "ename": "FileNotFoundError",
     "evalue": "[Errno 2] No such file or directory: 'validation/hw_cv.json'",
     "output_type": "error",
     "traceback": [
      "\u001b[1;31m---------------------------------------------------------------------------\u001b[0m",
      "\u001b[1;31mFileNotFoundError\u001b[0m                         Traceback (most recent call last)",
      "\u001b[1;32mc:\\Users\\user\\Projetos\\projecao_demanda_eletrica\\lab\\hw_cv.ipynb Cell 11'\u001b[0m in \u001b[0;36m<cell line: 1>\u001b[1;34m()\u001b[0m\n\u001b[1;32m----> <a href='vscode-notebook-cell:/c%3A/Users/user/Projetos/projecao_demanda_eletrica/lab/hw_cv.ipynb#X20sZmlsZQ%3D%3D?line=0'>1</a>\u001b[0m \u001b[39mwith\u001b[39;00m \u001b[39mopen\u001b[39;49m(\u001b[39m'\u001b[39;49m\u001b[39mvalidation/hw_cv.json\u001b[39;49m\u001b[39m'\u001b[39;49m, \u001b[39m'\u001b[39;49m\u001b[39mw\u001b[39;49m\u001b[39m'\u001b[39;49m) \u001b[39mas\u001b[39;00m f:\n\u001b[0;32m      <a href='vscode-notebook-cell:/c%3A/Users/user/Projetos/projecao_demanda_eletrica/lab/hw_cv.ipynb#X20sZmlsZQ%3D%3D?line=1'>2</a>\u001b[0m     json\u001b[39m.\u001b[39mdump(d, f)\n",
      "\u001b[1;31mFileNotFoundError\u001b[0m: [Errno 2] No such file or directory: 'validation/hw_cv.json'"
     ]
    }
   ],
   "source": [
    "with open('validation/hw_cv.json', 'w') as f:\n",
    "    json.dump(d, f)"
   ]
  }
 ],
 "metadata": {
  "interpreter": {
   "hash": "a077222d77dfe082b8f1dd562ad70e458ac2ab76993a0b248ab0476e32e9e8dd"
  },
  "kernelspec": {
   "display_name": "Python 3.8.8 ('base')",
   "language": "python",
   "name": "python3"
  },
  "language_info": {
   "codemirror_mode": {
    "name": "ipython",
    "version": 3
   },
   "file_extension": ".py",
   "mimetype": "text/x-python",
   "name": "python",
   "nbconvert_exporter": "python",
   "pygments_lexer": "ipython3",
   "version": "3.8.8"
  },
  "orig_nbformat": 4,
  "vscode": {
   "interpreter": {
    "hash": "a077222d77dfe082b8f1dd562ad70e458ac2ab76993a0b248ab0476e32e9e8dd"
   }
  }
 },
 "nbformat": 4,
 "nbformat_minor": 2
}
