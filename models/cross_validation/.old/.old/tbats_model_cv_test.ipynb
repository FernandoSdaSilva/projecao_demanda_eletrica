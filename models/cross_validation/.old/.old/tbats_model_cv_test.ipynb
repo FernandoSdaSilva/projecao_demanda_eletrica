{
 "cells": [
  {
   "cell_type": "code",
   "execution_count": 1,
   "metadata": {},
   "outputs": [],
   "source": [
    "import pandas as pd\n",
    "import numpy as np\n",
    "from load import load_data\n",
    "from load import train_test_split\n",
    "from load import get_measures\n",
    "import matplotlib.pyplot as plt\n",
    "from matplotlib import rcParams\n",
    "import seaborn as sns\n",
    "from sktime.forecasting.tbats import TBATS\n",
    "import warnings \n",
    "# configs\n",
    "warnings.filterwarnings('ignore') # remove warnings\n",
    "plt.style.use('fivethirtyeight')\n",
    "rcParams['figure.figsize'] = 15, 5\n"
   ]
  },
  {
   "cell_type": "code",
   "execution_count": 2,
   "metadata": {},
   "outputs": [],
   "source": [
    "df = load_data()\n",
    "df[\"load_mwmed\"].interpolate(method = \"linear\", inplace = True) "
   ]
  },
  {
   "cell_type": "code",
   "execution_count": 4,
   "metadata": {},
   "outputs": [],
   "source": [
    "\n",
    "# split train - test\n",
    "n_test = 15\n",
    "train, test = train_test_split(df, n_test)\n",
    "\n",
    "predictions = list()\n",
    "train, test = train_test_split(df, n_test)\n",
    "history = [x for x in train.load_mwmed]\n",
    "for i in range(len(test)):\n",
    "    forecaster = TBATS(  \n",
    "        use_box_cox=False,\n",
    "        use_trend=False,\n",
    "        use_damped_trend=False,\n",
    "        sp=7,\n",
    "        use_arma_errors=False)\n",
    "    forecaster.fit(pd.Series(history)) \n",
    "    y_pred = forecaster.predict(fh=[1])#.iloc[0]\n",
    "    print(y_pred)\n",
    "    # load_fc = y_pred[0]\n",
    "    # predictions.append(load_fc)\n",
    "    # history.append(test.load_mwmed[i])\n",
    "    # print(f'>expected = {test.load_mwmed[i]}, predicted = {load_fc}')\n"
   ]
  },
  {
   "cell_type": "code",
   "execution_count": null,
   "metadata": {},
   "outputs": [],
   "source": [
    "plt.figure()\n",
    "plt.plot(test.load_mwmed.reset_index(drop=True))\n",
    "plt.plot(predictions)\n",
    "plt.show()\n",
    "\n",
    "measures = get_measures(pd.Series(predictions), test.load_mwmed)\n",
    "df_measures = pd.DataFrame([measures])\n",
    "print(df_measures)\n",
    "\n",
    "y_hat = pd.Series(predictions)\n",
    "y_hat.index.names = [\"date\"]\n",
    "y_hat.index = test.index \n",
    "y_hat.columns = [\"forecast\"]\n",
    "y_hat.to_csv(\"validation/tbats_fc.csv\")"
   ]
  }
 ],
 "metadata": {
  "interpreter": {
   "hash": "a077222d77dfe082b8f1dd562ad70e458ac2ab76993a0b248ab0476e32e9e8dd"
  },
  "kernelspec": {
   "display_name": "Python 3.8.8 ('base')",
   "language": "python",
   "name": "python3"
  },
  "language_info": {
   "codemirror_mode": {
    "name": "ipython",
    "version": 3
   },
   "file_extension": ".py",
   "mimetype": "text/x-python",
   "name": "python",
   "nbconvert_exporter": "python",
   "pygments_lexer": "ipython3",
   "version": "3.8.8"
  },
  "orig_nbformat": 4
 },
 "nbformat": 4,
 "nbformat_minor": 2
}
