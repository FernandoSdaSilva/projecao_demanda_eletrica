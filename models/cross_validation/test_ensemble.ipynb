{
 "cells": [
  {
   "cell_type": "code",
   "execution_count": 12,
   "metadata": {},
   "outputs": [],
   "source": [
    "import pandas as pd\n",
    "import os\n",
    "import json\n",
    "\n",
    "ensemble = [\"hw\", \"prophet\"]\n",
    "folds = 15\n",
    "cvs = [f\"cv_{x}\" for x in range(folds,0, -1)]"
   ]
  },
  {
   "cell_type": "code",
   "execution_count": 20,
   "metadata": {},
   "outputs": [],
   "source": [
    "with open(\"validation/prophet_cv.json\") as f:\n",
    "    fc_dict = json.load(f)"
   ]
  },
  {
   "cell_type": "code",
   "execution_count": 21,
   "metadata": {},
   "outputs": [
    {
     "data": {
      "text/plain": [
       "{'pred': [12193.868007806943,\n",
       "  12251.30373832417,\n",
       "  12209.196016002825,\n",
       "  12090.437905779738,\n",
       "  10849.517170386765,\n",
       "  9604.316493258893,\n",
       "  11817.471879874309,\n",
       "  12143.94529953065,\n",
       "  12206.025335791628,\n",
       "  12169.502609441417,\n",
       "  12057.127569724436,\n",
       "  10823.220306416211,\n",
       "  9585.476864102511,\n",
       "  11806.33426076332,\n",
       "  12140.550045071688],\n",
       " 'test': [11964.909375,\n",
       "  12269.051375,\n",
       "  12021.41545833,\n",
       "  11802.52645833,\n",
       "  10256.970375,\n",
       "  8938.579125,\n",
       "  11713.10433333,\n",
       "  12054.19504167,\n",
       "  12186.721375,\n",
       "  12482.52370833,\n",
       "  12520.80383333,\n",
       "  10525.490875,\n",
       "  9074.21125,\n",
       "  11648.70958333,\n",
       "  12162.75679167]}"
      ]
     },
     "execution_count": 21,
     "metadata": {},
     "output_type": "execute_result"
    }
   ],
   "source": [
    "fc_dict[\"cv_1\"]"
   ]
  },
  {
   "cell_type": "code",
   "execution_count": 14,
   "metadata": {},
   "outputs": [],
   "source": [
    "df_preds = pd.DataFrame()\n",
    "for file in os.listdir(\"validation\"):\n",
    "    if file[:-8] in ensemble:\n",
    "        file_path = \"validation/\" + file\n",
    "        with open(file_path) as f:\n",
    "            fc_dict = json.load(f)\n",
    "        preds = []\n",
    "        for cv in cvs:\n",
    "            preds_cv = fc_dict[cv][\"pred\"]\n",
    "            preds.append(pd.Series(preds_cv))\n",
    "        df_preds_model = pd.concat(preds, axis = 0)\n",
    "        df_preds = pd.concat([df_preds, df_preds_model], axis = 1)"
   ]
  },
  {
   "cell_type": "code",
   "execution_count": 15,
   "metadata": {},
   "outputs": [
    {
     "data": {
      "text/html": [
       "<div>\n",
       "<style scoped>\n",
       "    .dataframe tbody tr th:only-of-type {\n",
       "        vertical-align: middle;\n",
       "    }\n",
       "\n",
       "    .dataframe tbody tr th {\n",
       "        vertical-align: top;\n",
       "    }\n",
       "\n",
       "    .dataframe thead th {\n",
       "        text-align: right;\n",
       "    }\n",
       "</style>\n",
       "<table border=\"1\" class=\"dataframe\">\n",
       "  <thead>\n",
       "    <tr style=\"text-align: right;\">\n",
       "      <th></th>\n",
       "      <th>0</th>\n",
       "      <th>0</th>\n",
       "    </tr>\n",
       "  </thead>\n",
       "  <tbody>\n",
       "    <tr>\n",
       "      <th>0</th>\n",
       "      <td>11287.853069</td>\n",
       "      <td>12063.969005</td>\n",
       "    </tr>\n",
       "    <tr>\n",
       "      <th>1</th>\n",
       "      <td>11581.772443</td>\n",
       "      <td>12143.535047</td>\n",
       "    </tr>\n",
       "    <tr>\n",
       "      <th>2</th>\n",
       "      <td>11401.424303</td>\n",
       "      <td>12128.030592</td>\n",
       "    </tr>\n",
       "    <tr>\n",
       "      <th>3</th>\n",
       "      <td>11195.715296</td>\n",
       "      <td>12041.456038</td>\n",
       "    </tr>\n",
       "    <tr>\n",
       "      <th>4</th>\n",
       "      <td>9491.904356</td>\n",
       "      <td>10836.377038</td>\n",
       "    </tr>\n",
       "    <tr>\n",
       "      <th>...</th>\n",
       "      <td>...</td>\n",
       "      <td>...</td>\n",
       "    </tr>\n",
       "    <tr>\n",
       "      <th>10</th>\n",
       "      <td>11292.075988</td>\n",
       "      <td>12057.127570</td>\n",
       "    </tr>\n",
       "    <tr>\n",
       "      <th>11</th>\n",
       "      <td>9689.067272</td>\n",
       "      <td>10823.220306</td>\n",
       "    </tr>\n",
       "    <tr>\n",
       "      <th>12</th>\n",
       "      <td>8448.679893</td>\n",
       "      <td>9585.476864</td>\n",
       "    </tr>\n",
       "    <tr>\n",
       "      <th>13</th>\n",
       "      <td>11370.643708</td>\n",
       "      <td>11806.334261</td>\n",
       "    </tr>\n",
       "    <tr>\n",
       "      <th>14</th>\n",
       "      <td>11739.477252</td>\n",
       "      <td>12140.550045</td>\n",
       "    </tr>\n",
       "  </tbody>\n",
       "</table>\n",
       "<p>225 rows × 2 columns</p>\n",
       "</div>"
      ],
      "text/plain": [
       "               0             0\n",
       "0   11287.853069  12063.969005\n",
       "1   11581.772443  12143.535047\n",
       "2   11401.424303  12128.030592\n",
       "3   11195.715296  12041.456038\n",
       "4    9491.904356  10836.377038\n",
       "..           ...           ...\n",
       "10  11292.075988  12057.127570\n",
       "11   9689.067272  10823.220306\n",
       "12   8448.679893   9585.476864\n",
       "13  11370.643708  11806.334261\n",
       "14  11739.477252  12140.550045\n",
       "\n",
       "[225 rows x 2 columns]"
      ]
     },
     "execution_count": 15,
     "metadata": {},
     "output_type": "execute_result"
    }
   ],
   "source": [
    "df_preds"
   ]
  }
 ],
 "metadata": {
  "interpreter": {
   "hash": "a077222d77dfe082b8f1dd562ad70e458ac2ab76993a0b248ab0476e32e9e8dd"
  },
  "kernelspec": {
   "display_name": "Python 3.8.8 ('base')",
   "language": "python",
   "name": "python3"
  },
  "language_info": {
   "codemirror_mode": {
    "name": "ipython",
    "version": 3
   },
   "file_extension": ".py",
   "mimetype": "text/x-python",
   "name": "python",
   "nbconvert_exporter": "python",
   "pygments_lexer": "ipython3",
   "version": "3.8.8"
  },
  "orig_nbformat": 4
 },
 "nbformat": 4,
 "nbformat_minor": 2
}
