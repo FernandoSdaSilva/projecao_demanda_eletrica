{
 "cells": [
  {
   "cell_type": "code",
   "execution_count": 5,
   "metadata": {},
   "outputs": [],
   "source": [
    "import pandas as pd\n",
    "import numpy as np\n",
    "from load import load_data\n",
    "from load import train_test_split\n",
    "from load import get_measures\n",
    "import matplotlib.pyplot as plt\n",
    "from matplotlib import rcParams\n",
    "import seaborn as sns\n",
    "import statsmodels.api as sm\n",
    "import warnings \n",
    "# configs\n",
    "warnings.filterwarnings('ignore') # remove warnings\n",
    "plt.style.use('fivethirtyeight')\n",
    "rcParams['figure.figsize'] = 15, 5\n"
   ]
  },
  {
   "cell_type": "code",
   "execution_count": 31,
   "metadata": {},
   "outputs": [],
   "source": [
    "df = load_data()\n",
    "df[\"load_mwmed\"].interpolate(method = \"linear\", inplace = True)  # fill empty values\n",
    "#df.load_mwmed = np.log(df.load_mwmed) # log-transform"
   ]
  },
  {
   "cell_type": "code",
   "execution_count": 11,
   "metadata": {},
   "outputs": [],
   "source": [
    "# split train - test\n",
    "n_test = 31\n",
    "train, test = train_test_split(df, n_test)"
   ]
  },
  {
   "cell_type": "code",
   "execution_count": 33,
   "metadata": {},
   "outputs": [
    {
     "name": "stdout",
     "output_type": "stream",
     "text": [
      ">expected = 8794.163125, predicted = 9304.700894249081\n",
      ">expected = 11643.82154167, predicted = 11934.51395225829\n",
      ">expected = 11941.66258333, predicted = 12273.919810459305\n",
      ">expected = 11643.86191667, predicted = 12201.205555074122\n",
      ">expected = 11442.40841667, predicted = 11654.801878794427\n",
      ">expected = 11156.521, predicted = 11156.610158282541\n",
      ">expected = 9333.92008333, predicted = 9589.040509719822\n",
      ">expected = 7742.3945, predicted = 5.340118015934335e+17\n",
      ">expected = 10808.54866667, predicted = 10793.494039889969\n",
      ">expected = 11654.62308112, predicted = 11231.827695162177\n",
      ">expected = 11608.52466322, predicted = 11682.32959058242\n",
      ">expected = 11361.00188129, predicted = 11577.671132866188\n",
      ">expected = 11305.70706206, predicted = 11117.296593116027\n",
      ">expected = 10060.54978729, predicted = 9789.922441700355\n",
      ">expected = 8994.85674774, predicted = 8680.553873742585\n",
      ">expected = 11424.08754167, predicted = 11929.9377110225\n",
      ">expected = 11964.909375, predicted = 11914.696886489273\n",
      ">expected = 12269.051375, predicted = 12044.738006605647\n",
      ">expected = 12021.41545833, predicted = 12090.57270742858\n",
      ">expected = 11802.52645833, predicted = 11562.23080068753\n",
      ">expected = 10256.970375, predicted = 10137.039669607788\n",
      ">expected = 8938.579125, predicted = 8.43817161519343e+17\n",
      ">expected = 11713.10433333, predicted = 11803.50632853192\n",
      ">expected = 12054.19504167, predicted = 12137.36162559227\n",
      ">expected = 12186.721375, predicted = 12193.728489663366\n",
      ">expected = 12482.52370833, predicted = 12056.925449683038\n",
      ">expected = 12520.80383333, predicted = 11976.067705717038\n",
      ">expected = 10525.490875, predicted = 10702.02415272671\n",
      ">expected = 9074.21125, predicted = 9308.862179632908\n",
      ">expected = 11648.70958333, predicted = 12041.294559541418\n",
      ">expected = 12162.75679167, predicted = 12323.548425261475\n"
     ]
    }
   ],
   "source": [
    "predictions = list()\n",
    "train, test = train_test_split(df, 31)\n",
    "history = [x for x in train.load_mwmed]\n",
    "for i in range(len(test)):\n",
    "    model = sm.tsa.statespace.SARIMAX(history,order=(1, 1, 2),seasonal_order=(1,0,1,7), trend='c')\n",
    "    SARIMA_model = model.fit()\n",
    "    load_fc = SARIMA_model.forecast(1)[0]\n",
    "    predictions.append(load_fc)\n",
    "    history.append(test.load_mwmed[i])\n",
    "    print(f'>expected = {test.load_mwmed[i]}, predicted = {load_fc}')"
   ]
  },
  {
   "cell_type": "code",
   "execution_count": 55,
   "metadata": {},
   "outputs": [
    {
     "name": "stdout",
     "output_type": "stream",
     "text": [
      "           erro           mae           mse          rmse          mape  smape\n",
      "0  9.971960e+35  4.444610e+16  3.216761e+34  1.793533e+17  5.270134e+12  14.94\n"
     ]
    }
   ],
   "source": [
    "medidas_fc = get_measures(pd.Series(predictions), test.load_mwmed) \n",
    "df_medidas_fc = pd.DataFrame([medidas_fc])\n",
    "print(df_medidas_fc)"
   ]
  }
 ],
 "metadata": {
  "interpreter": {
   "hash": "a077222d77dfe082b8f1dd562ad70e458ac2ab76993a0b248ab0476e32e9e8dd"
  },
  "kernelspec": {
   "display_name": "Python 3.8.8 ('base')",
   "language": "python",
   "name": "python3"
  },
  "language_info": {
   "codemirror_mode": {
    "name": "ipython",
    "version": 3
   },
   "file_extension": ".py",
   "mimetype": "text/x-python",
   "name": "python",
   "nbconvert_exporter": "python",
   "pygments_lexer": "ipython3",
   "version": "3.8.8"
  },
  "orig_nbformat": 4,
  "vscode": {
   "interpreter": {
    "hash": "fee398f4d36bb137158c9b2ed04862fe464aa83491cac8897ba1e0807622e357"
   }
  }
 },
 "nbformat": 4,
 "nbformat_minor": 2
}
